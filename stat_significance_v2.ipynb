{
 "cells": [
  {
   "cell_type": "markdown",
   "id": "573d2279",
   "metadata": {},
   "source": [
    "### Results - Baselines - AUC"
   ]
  },
  {
   "cell_type": "code",
   "execution_count": 38,
   "id": "15b531fb",
   "metadata": {},
   "outputs": [
    {
     "name": "stdout",
     "output_type": "stream",
     "text": [
      "[['ml_morgan_1024_Hepatobiliary_disorders', 'ml_morgan_1024_SR-ARE'], ['ml_maccs_Hepatobiliary_disorders', 'ml_maccs_SR-ARE'], ['ml_RDKit_1024_Hepatobiliary_disorders', 'ml_RDKit_1024_SR-ARE'], ['ml_maccs_morgan_Hepatobiliary_disorders', 'ml_maccs_morgan_SR-ARE'], ['ml_RDKit_morgan_Hepatobiliary_disorders', 'ml_RDKit_morgan_SR-ARE'], ['ml_desc_217_Hepatobiliary_disorders', 'ml_desc_217_SR-ARE']]\n",
      "ml_desc_217_Hepatobiliary_disorders_prob.csv\n",
      "ml_maccs_Hepatobiliary_disorders_prob.csv\n",
      "ml_maccs_morgan_Hepatobiliary_disorders_prob.csv\n",
      "ml_morgan_1024_Hepatobiliary_disorders_prob.csv\n",
      "ml_RDKit_1024_Hepatobiliary_disorders_prob.csv\n",
      "ml_RDKit_morgan_Hepatobiliary_disorders_prob.csv\n",
      "ml_desc_217_SR-ARE_prob.csv\n",
      "ml_maccs_morgan_SR-ARE_prob.csv\n",
      "ml_maccs_SR-ARE_prob.csv\n",
      "ml_morgan_1024_SR-ARE_prob.csv\n",
      "ml_RDKit_1024_SR-ARE_prob.csv\n",
      "ml_RDKit_morgan_SR-ARE_prob.csv\n"
     ]
    }
   ],
   "source": [
    "import os\n",
    "import pandas as pd\n",
    "import numpy as np\n",
    "folders_baselines  = [os.path.join(os.getcwd(), \"baselines\", \"results\", \"sider\", \"auc\"), \n",
    "                      os.path.join(os.getcwd(), \"baselines\", \"results\", \"tox21\", \"auc\")]\n",
    "\n",
    "tasks = [\"Hepatobiliary_disorders\", \"SR-ARE\"]\n",
    "data_names = [\"ml_morgan_1024_\", \"ml_maccs_\", \"ml_RDKit_1024_\",\"ml_maccs_morgan_\", \"ml_RDKit_morgan_\", \"ml_desc_217_\"]\n",
    "data_names = [[prefix + task for task in tasks] for prefix in data_names]\n",
    "print(data_names)\n",
    "results_SVM = [[[] for _ in range(len(data_names))] for _ in range(len(tasks))]\n",
    "results_XGB = [[[] for _ in range(len(data_names))] for _ in range(len(tasks))]\n",
    "results_RF  = [[[] for _ in range(len(data_names))] for _ in range(len(tasks))]\n",
    "results_KNN = [[[] for _ in range(len(data_names))] for _ in range(len(tasks))]\n",
    "results_MLP = [[[] for _ in range(len(data_names))] for _ in range(len(tasks))]\n",
    "\n",
    "#baseline_names = [\"SVM\", \"XGB\", \"RF\",\"KNN\", \"MLP\"]\n",
    "#results_baselines = [results_SVM, results_XGB, results_RF, results_KNN, results_MLP]\n",
    "\n",
    "baseline_names = [\"SVM\", \"RF\", \"XGB\",\"KNN\", \"MLP\"]\n",
    "results_baselines_auc = [results_SVM, results_RF, results_XGB, results_KNN, results_MLP]\n",
    "\n",
    "start_line = 10\n",
    "for folder_idx, folder in enumerate(folders_baselines):\n",
    "    for filename in os.listdir(folder):\n",
    "        print(filename)\n",
    "        for data_idx, data_name in enumerate(data_names):\n",
    "            if data_name[folder_idx] in filename:\n",
    "                for k, baseline in enumerate(results_baselines_auc):\n",
    "                    #print(baseline_names[k], filename)\n",
    "                    df = pd.read_csv(os.path.join(folder, filename), skiprows=start_line + k * (35), nrows=30)\n",
    "                    baseline[folder_idx][data_idx].extend(df.AUC.tolist())\n",
    "                    #print(baseline[folder_idx][data_idx])\n",
    "                    \n",
    "        \n"
   ]
  },
  {
   "cell_type": "markdown",
   "id": "ae312bea",
   "metadata": {},
   "source": [
    "### Results - Baselines - BA"
   ]
  },
  {
   "cell_type": "code",
   "execution_count": 39,
   "id": "325bdbd7",
   "metadata": {},
   "outputs": [
    {
     "name": "stdout",
     "output_type": "stream",
     "text": [
      "ml_desc_217_Hepatobiliary_disorders.csv\n",
      "ml_maccs_Hepatobiliary_disorders.csv\n",
      "ml_maccs_morgan_Hepatobiliary_disorders.csv\n",
      "ml_morgan_1024_Hepatobiliary_disorders.csv\n",
      "ml_RDKit_1024_Hepatobiliary_disorders.csv\n",
      "ml_RDKit_morgan_Hepatobiliary_disorders.csv\n",
      "ml_desc_217_SR-ARE.csv\n",
      "ml_maccs_morgan_SR-ARE.csv\n",
      "ml_maccs_SR-ARE.csv\n",
      "ml_morgan_1024_SR-ARE.csv\n",
      "ml_RDKit_1024_SR-ARE.csv\n",
      "ml_RDKit_morgan_SR-ARE.csv\n"
     ]
    }
   ],
   "source": [
    "import os\n",
    "import pandas as pd\n",
    "import numpy as np\n",
    "folders_baselines  = [os.path.join(os.getcwd(), \"baselines\", \"results\", \"sider\", \"ba\"), \n",
    "                      os.path.join(os.getcwd(), \"baselines\", \"results\", \"tox21\", \"ba\")]\n",
    "\n",
    "results_SVM = [[[] for _ in range(len(data_names))] for _ in range(len(tasks))]\n",
    "results_XGB = [[[] for _ in range(len(data_names))] for _ in range(len(tasks))]\n",
    "results_RF  = [[[] for _ in range(len(data_names))] for _ in range(len(tasks))]\n",
    "results_KNN = [[[] for _ in range(len(data_names))] for _ in range(len(tasks))]\n",
    "results_MLP = [[[] for _ in range(len(data_names))] for _ in range(len(tasks))]\n",
    "\n",
    "results_baselines_ba = [results_SVM, results_RF, results_XGB, results_KNN, results_MLP]\n",
    "\n",
    "start_line = 10\n",
    "for folder_idx, folder in enumerate(folders_baselines):\n",
    "    for filename in os.listdir(folder):\n",
    "        print(filename)\n",
    "        for data_idx, data_name in enumerate(data_names):\n",
    "            if data_name[folder_idx] in filename:\n",
    "                for k, baseline in enumerate(results_baselines_ba):\n",
    "                    #print(baseline_names[k], filename)\n",
    "                    df = pd.read_csv(os.path.join(folder, filename), skiprows=start_line + k * (35), nrows=30)\n",
    "                    baseline[folder_idx][data_idx].extend(df.AUC.tolist())\n",
    "                    #print(baseline[folder_idx][data_idx])\n",
    "                    \n",
    "        \n"
   ]
  },
  {
   "cell_type": "code",
   "execution_count": 40,
   "id": "f20441d9",
   "metadata": {},
   "outputs": [
    {
     "name": "stdout",
     "output_type": "stream",
     "text": [
      "30\n",
      "30\n",
      "30\n",
      "30\n",
      "30\n",
      "30\n",
      "30\n",
      "30\n",
      "30\n",
      "30\n",
      "30\n",
      "30\n"
     ]
    }
   ],
   "source": [
    "for k in results_SVM:\n",
    "    for j in k:\n",
    "        print(len(j))"
   ]
  },
  {
   "cell_type": "markdown",
   "id": "226bf810",
   "metadata": {},
   "source": [
    "### Results - CSNN"
   ]
  },
  {
   "cell_type": "code",
   "execution_count": 41,
   "id": "69cd4831",
   "metadata": {
    "slideshow": {
     "slide_type": "slide"
    }
   },
   "outputs": [],
   "source": [
    "# 5 data representations\n",
    "# idx 0 -> Sider | idx 1 -> Tox21\n",
    "# Morgan | MACCS  | RDKit | MACCS + Morgan | Morgan + RDKit\n",
    "results_CSNN_AUC = [\n",
    "[\n",
    "    [0.6898507462686567, 0.7484879032258065, 0.6736758579646895, 0.7870646766169154, 0.7076632916418503, 0.6499900734564225, 0.7077380952380952, 0.6541666666666667, 0.6926735478648047, 0.665771144, 0.6690547263681592, 0.61812201, 0.64978903, 0.6094897756601151, 0.6208133971291866, 0.6144674085850557, 0.6080542264752792, 0.6417910447761195, 0.6676587301587302, 0.706630609, 0.6775858646019456, 0.6339285714285714, 0.6252762708458911, 0.637023052, 0.6998015873015874, 0.6595404595404596, 0.6529233870967741, 0.6986136226642556, 0.6091018685955395, 0.69445598],\n",
    "    [0.6019900497512438, 0.7285282258064516, 0.6119817496528466, 0.6326368159203981, 0.5987691085963868, 0.7240420885447687, 0.7516865079365079, 0.6639227642276423, 0.6205221615057681, 0.6654726368159204, 0.6595024875621891, 0.676036683, 0.6240707253365481, 0.6485010919197933, 0.6965709728867624, 0.6630564387917329, 0.5670853269537479, 0.6490547263681593, 0.6340277777777779, 0.7114383012820512, 0.6499900734564226, 0.6365079365079365, 0.5520393811533052, 0.6680246422893481, 0.7232142857142857, 0.6032967032967033, 0.6639112903225808, 0.641852522, 0.6479807112718504, 0.6730689368770764],\n",
    "    [0.773830846, 0.735282258, 0.734576473, 0.72358209, 0.725332539, 0.691780822, 0.753571429, 0.626219512, 0.745496863, 0.636915423, 0.614825871, 0.698464912, 0.679626281, 0.686023427, 0.633173844, 0.69286566, 0.640749601, 0.713333333, 0.68640873, 0.681991186, 0.728707564, 0.645436508, 0.668675909, 0.627285374, 0.75327381, 0.651948052, 0.723185484, 0.695398835, 0.654309825, 0.71345515], \n",
    "    [0.659004975, 0.741330645, 0.73943662, 0.700895522, 0.642942228, 0.715902323, 0.716765873, 0.624898374, 0.697935641, 0.664179104, 0.695920398, 0.711622807, 0.660136628, 0.691880087, 0.659688995, 0.66822337, 0.613337321, 0.718507463, 0.733630952, 0.633112981, 0.718383959, 0.694742063, 0.625175809, 0.694058029, 0.694940476, 0.625474525, 0.643850806, 0.764114929, 0.730661041, 0.741486711],\n",
    "    [0.724378109, 0.73921371, 0.772862527, 0.728557214, 0.71401628, 0.60373238, 0.719345238, 0.653658537, 0.741044323, 0.664179104, 0.679900498, 0.645434609, 0.669077758, 0.696545563, 0.625897129, 0.608505564, 0.64064992, 0.724079602, 0.670734127, 0.747295673, 0.713023625, 0.658829365, 0.694293751, 0.632551669, 0.749503968, 0.5997003, 0.650907258, 0.673397629, 0.713783404, 0.735465116],\n",
    "    [0.697711443, 0.621169355, 0.602360643, 0.67681592, 0.662596784, 0.632519357, 0.70297619, 0.619207317, 0.715543412, 0.676517413, 0.659900498, 0.595095694, 0.620353627, 0.553603335, 0.564094896, 0.636526232, 0.526714514, 0.621492537, 0.61577381, 0.655548878, 0.684931507, 0.608234127, 0.571729958, 0.588732114, 0.649404762, 0.592907093, 0.67983871, 0.656620454, 0.632409082, 0.600913621]\n",
    "],\n",
    "[\n",
    "    [0.739970359, 0.790714879, 0.686187715, 0.74097561, 0.678100144, 0.758004475, 0.676927044, 0.747505632, 0.745744804, 0.717804076, 0.728238866, 0.778940829, 0.692811751, 0.729957091, 0.743141289, 0.795339529, 0.723696873, 0.726099585, 0.725343132, 0.713114754, 0.734605028, 0.714927733, 0.702075003, 0.753884602, 0.719233045, 0.687203741, 0.751326067, 0.732179226, 0.732011369, 0.735116857], \n",
    "    [0.728916655, 0.733273203, 0.695644455, 0.756829268, 0.784021241, 0.75223247, 0.738043886, 0.731392823, 0.755323348, 0.721591059, 0.695907711, 0.761698237, 0.706488994, 0.720946251, 0.747695902, 0.756532941, 0.727893288, 0.781109959, 0.749519075, 0.773729072, 0.765520799, 0.713087173, 0.720501459, 0.722755505, 0.724417091, 0.70611117, 0.773035518, 0.726841387, 0.759830801, 0.755946356],\n",
    "    [0.769004343, 0.745839836, 0.740549177, 0.754085366, 0.745094241, 0.756592844, 0.757783196, 0.707193434, 0.74916986, 0.739395135, 0.73145933, 0.736496624, 0.770719265, 0.721668925, 0.727505573, 0.70617869, 0.691591504, 0.705560166, 0.775391765, 0.734216952, 0.746218889, 0.740910117, 0.735296661, 0.714557584, 0.681950527, 0.710256138, 0.770181957, 0.704057653, 0.739587297, 0.706167188],\n",
    "    [0.759442992, 0.757423435, 0.713575571, 0.768780488, 0.776033001, 0.74080348, 0.733343492, 0.770477953, 0.762603042, 0.721025641, 0.699461722, 0.749706958, 0.733304747, 0.730160343, 0.748553241, 0.790359312, 0.717911416, 0.685228216, 0.744861126, 0.718379404, 0.779449883, 0.726603433, 0.728304334, 0.733797603, 0.73631199, 0.71443299, 0.797094962, 0.765045545, 0.76694792, 0.71708226],\n",
    "    [0.785014545, 0.771837955, 0.698578453, 0.766825649, 0.818296716, 0.783029074, 0.722822032, 0.794326241, 0.757675971, 0.798628486, 0.777715168, 0.806911442, 0.777654813, 0.732090676, 0.745724416, 0.831127709, 0.770779806, 0.746149328, 0.784133423, 0.792383758, 0.765946569, 0.716274391, 0.766337597, 0.765961215, 0.708860117, 0.740595005, 0.824677432, 0.775631897, 0.764351524, 0.739332666],\n",
    "    [0.709649863, 0.674392444, 0.695443248, 0.724829268, 0.717699478, 0.754877972, 0.71456536, 0.750724171, 0.789132706, 0.673675214, 0.713781285, 0.748851275, 0.695208567, 0.668292683, 0.760984654, 0.771335572, 0.655412815, 0.750186722, 0.700270183, 0.704580136, 0.741361955, 0.688019422, 0.689117043, 0.729029425, 0.729459108, 0.656222765, 0.703072895, 0.688838656, 0.750688212, 0.689915348]\n",
    "]]\n",
    "\n",
    "results_CSNN_BA = [\n",
    "[\n",
    "    [0.63880597, 0.647983871, 0.612676056, 0.694726368, 0.66289458, 0.60373238, 0.594642857, 0.6, 0.510321797, 0.636119403, 0.614726368, 0.594896332, 0.600562588, 0.563827675, 0.539673046, 0.601748808, 0.570175439, 0.648358209, 0.587103175, 0.680689103, 0.648798888, 0.606547619, 0.621358248, 0.60472973, 0.607539683, 0.598701299, 0.63608871, 0.638738196, 0.583383564, 0.593230897],\n",
    "    [0.57641791, 0.654032258, 0.542253521, 0.578606965, 0.557673218, 0.664185031, 0.671626984, 0.571747967, 0.590669905, 0.621691542, 0.622487562, 0.649521531, 0.555153707, 0.603236053, 0.626594896, 0.600357711, 0.545255183, 0.603781095, 0.566666667, 0.620592949, 0.582291046, 0.561111111, 0.537371911, 0.623608903, 0.657142857, 0.556843157, 0.604032258, 0.600964436, 0.570725337, 0.594061462],\n",
    "    [0.728358209, 0.677217742, 0.676056338, 0.713134328, 0.676990272, 0.633909073, 0.663293651, 0.580487805, 0.671119207, 0.575024876, 0.62278607, 0.661682616, 0.630600764, 0.634703196, 0.606060606, 0.695747218, 0.596889952, 0.665970149, 0.61984127, 0.625801282, 0.612467739, 0.555555556, 0.608499096, 0.584062003, 0.70515873, 0.607592408, 0.668951613, 0.660638939, 0.626079968, 0.655315615],\n",
    "    [0.613432836, 0.65766129, 0.711267606, 0.643283582, 0.600754417, 0.667361525, 0.662896825, 0.572357724, 0.642380085, 0.634228856, 0.638208955, 0.666666667, 0.573638738, 0.603633115, 0.60546252, 0.63672496, 0.593301435, 0.59681592, 0.650793651, 0.615985577, 0.683839587, 0.637896825, 0.556459715, 0.647257552, 0.642857143, 0.541658342, 0.598387097, 0.687964637, 0.631103074, 0.698712625],\n",
    "    [0.688358209, 0.68608871, 0.690140845, 0.669154229, 0.647607703, 0.571074052, 0.60218254, 0.644918699, 0.648654119, 0.61960199, 0.634527363, 0.600877193, 0.626079968, 0.619813381, 0.578548644, 0.56200318, 0.594497608, 0.660597015, 0.607738095, 0.674879808, 0.628250943, 0.588888889, 0.660839863, 0.601748808, 0.650992063, 0.612887113, 0.591330645, 0.643359453, 0.604279687, 0.676910299],\n",
    "    [0.609253731, 0.573790323, 0.584507042, 0.62119403, 0.617331745, 0.573158626, 0.642261905, 0.547357724, 0.627706942, 0.574427861, 0.619800995, 0.628189793, 0.592927466, 0.513400834, 0.512759171, 0.581279809, 0.495015949, 0.532835821, 0.545833333, 0.605168269, 0.620508239, 0.594444444, 0.531344183, 0.578497615, 0.579166667, 0.582317682, 0.615927419, 0.550431987, 0.597749648, 0.588247508]\n",
    "],\n",
    "[\n",
    "    [0.701045676, 0.682854653, 0.658527636, 0.667097561, 0.62125943, 0.719053893, 0.624554576, 0.691603637, 0.659491466, 0.646390533, 0.678137652, 0.695564516, 0.659377268, 0.66097561, 0.695151749, 0.776361796, 0.648094268, 0.668360996, 0.702604561, 0.65833188, 0.665689408, 0.670121951, 0.629806549, 0.676203024, 0.641649899, 0.63814433, 0.692665786, 0.681229158, 0.629999329, 0.676021347],\n",
    "    [0.647876742, 0.622514543, 0.647461238, 0.714878049, 0.703352554, 0.705188531, 0.670362903, 0.690980045, 0.665552072, 0.658658777, 0.655318366, 0.711060578, 0.625535985, 0.632723577, 0.683513374, 0.675952337, 0.667229919, 0.738713693, 0.677682914, 0.695653122, 0.690640964, 0.622425474, 0.642007997, 0.639249639, 0.63360161, 0.67628866, 0.7072805, 0.647478794, 0.709529778, 0.692606735],\n",
    "    [0.690650666, 0.659626649, 0.710699491, 0.660317073, 0.661371561, 0.705063053, 0.681521943, 0.634534921, 0.673319401, 0.667061144, 0.662955466, 0.64788072, 0.700639884, 0.657723577, 0.629115226, 0.657043614, 0.648810456, 0.650020747, 0.712482438, 0.662909836, 0.651835821, 0.68902439, 0.613617205, 0.672062237, 0.645922594, 0.622680412, 0.710760726, 0.636680021, 0.687976992, 0.624746964],\n",
    "    [0.706397563, 0.675132254, 0.663865546, 0.715268293, 0.707956332, 0.682916118, 0.66175919, 0.712524139, 0.687251829, 0.667968442, 0.660310085, 0.710755814, 0.688534864, 0.672764228, 0.6718107, 0.728882959, 0.672276807, 0.637572614, 0.66718902, 0.673417335, 0.706117724, 0.64898374, 0.673435642, 0.638465399, 0.667889691, 0.663917526, 0.740460151, 0.715024283, 0.689398178, 0.696816342],\n",
    "    [0.715113792, 0.694532349, 0.586461224, 0.688373894, 0.708055752, 0.701577643, 0.673919245, 0.69908193, 0.675323625, 0.715666652, 0.711547291, 0.712389064, 0.706863902, 0.684826884, 0.70409251, 0.746065643, 0.690511607, 0.698298743, 0.693509128, 0.699431938, 0.716072749, 0.671763137, 0.694811364, 0.691313203, 0.584539223, 0.671848701, 0.727410673, 0.687106918, 0.66372549, 0.685654824],\n",
    "    [0.639715115, 0.615207653, 0.615563972, 0.642414634, 0.636404039, 0.698475438, 0.663540885, 0.691161088, 0.652664577, 0.651282051, 0.641792418, 0.661524756, 0.610693318, 0.5899729, 0.689493313, 0.724673353, 0.597535865, 0.667385892, 0.657797471, 0.678038891, 0.655119913, 0.644173442, 0.633156814, 0.632128741, 0.675168659, 0.620618557, 0.647691412, 0.633244556, 0.694467447, 0.641539382]\n",
    "]]"
   ]
  },
  {
   "cell_type": "markdown",
   "id": "2e9f8f59",
   "metadata": {},
   "source": [
    "### Results - SNN"
   ]
  },
  {
   "cell_type": "code",
   "execution_count": 4,
   "id": "a9180724",
   "metadata": {},
   "outputs": [],
   "source": [
    "# 5 data representations\n",
    "# idx 0 -> Sider | idx 1 -> Tox21\n",
    "# Morgan | MACCS | RDKit | MACCS + Morgan | Morgan + RDKit\n",
    "results_SNN_AUC = [\n",
    "[[], [], [], [], [], []],\n",
    "[[], [], [], [], [], []]]\n",
    "\n",
    "results_SNN_BA = [\n",
    "[[], [], [], [], [], []],\n",
    "[[], [], [], [], [], []]]"
   ]
  },
  {
   "cell_type": "markdown",
   "id": "62383eb8",
   "metadata": {},
   "source": [
    "# Significance Test"
   ]
  },
  {
   "cell_type": "code",
   "execution_count": 28,
   "id": "7672909d",
   "metadata": {},
   "outputs": [],
   "source": [
    "data_types = [\"Morgan\", \"MACCS\", \"RDKit\", \"MACCS + Morgan\", \"Morgan + RDKit\", \"Desc\"]"
   ]
  },
  {
   "cell_type": "markdown",
   "id": "bd6cc40b",
   "metadata": {},
   "source": [
    "##### Wilcoxon Test - ROC-AUC"
   ]
  },
  {
   "cell_type": "code",
   "execution_count": 42,
   "id": "131c6a9e",
   "metadata": {},
   "outputs": [
    {
     "name": "stdout",
     "output_type": "stream",
     "text": [
      "WILCOXON on AUC\n",
      "Hepatobiliary_disorders\n",
      "Model | Morgan | MACCS | RDKit | MACCS_Morg | Morg_RDKit | Desc\n",
      "SVM & 8.009e-08 & 1.863e-08 & 7.296e-04 & 6.147e-08 & 2.080e-05 & 5.588e-09\n",
      "RF  & 3.725e-09 & 3.725e-09 & 9.313e-09 & 3.725e-09 & 1.863e-09 & 1.863e-09\n",
      "XGB & 3.856e-07 & 1.304e-08 & 6.918e-06 & 5.588e-09 & 1.863e-08 & 3.725e-09\n",
      "KNN & 5.383e-03 & 3.725e-09 & 6.287e-05 & 5.718e-07 & 1.304e-08 & 1.863e-09\n",
      "MLP & 6.918e-06 & 9.984e-07 & 2.020e-03 & 1.218e-05 & 4.968e-05 & 1.304e-08\n",
      "SR-ARE\n",
      "Model | Morgan | MACCS | RDKit | MACCS_Morg | Morg_RDKit | Desc\n",
      "SVM & 1.863e-09 & 1.863e-09 & 3.725e-09 & 1.863e-09 & 1.457e-03 & 1.863e-09\n",
      "RF  & 1.863e-09 & 1.863e-09 & 1.863e-09 & 1.863e-09 & 9.220e-06 & 1.863e-09\n",
      "XGB & 1.863e-09 & 1.863e-09 & 1.863e-09 & 1.863e-09 & 4.657e-08 & 1.863e-09\n",
      "KNN & 8.078e-01 & 1.639e-07 & 3.539e-08 & 6.918e-06 & 8.236e-01 & 1.863e-09\n",
      "MLP & 8.236e-01 & 9.313e-09 & 1.863e-09 & 3.856e-07 & 1.886e-04 & 1.863e-09\n"
     ]
    }
   ],
   "source": [
    "from scipy.stats import wilcoxon\n",
    "\n",
    "# Headers\n",
    "print(\"WILCOXON on AUC\")\n",
    "\n",
    "for task_idx, task in enumerate(tasks):\n",
    "    print(task)\n",
    "    print(\"Model\", end='')\n",
    "    for data_type in data_types:\n",
    "        print(f\" | {data_type}\", end='')\n",
    "    print()\n",
    "    for b_idx, baseline in enumerate(results_baselines_auc):\n",
    "        if baseline_names[b_idx] == \"RF\":\n",
    "            string = f\"{baseline_names[b_idx]} \"\n",
    "        else: string = f\"{baseline_names[b_idx]}\"\n",
    "        print(string, end='')\n",
    "\n",
    "        for data_idx, data_type in enumerate(data_types):\n",
    "            diff = np.array(results_CSNN_AUC[task_idx][data_idx]) - np.array(baseline[task_idx][data_idx])\n",
    "            stat, p = wilcoxon(diff)\n",
    "            print(f\" & {p:.3e}\", end='')\n",
    "        print()"
   ]
  },
  {
   "cell_type": "code",
   "execution_count": 43,
   "id": "97cf7685",
   "metadata": {},
   "outputs": [
    {
     "name": "stdout",
     "output_type": "stream",
     "text": [
      "WILCOXON on AUC\n",
      "Hepatobiliary_disorders\n",
      "Model | Morgan | MACCS | RDKit | MACCS_Morg | Morg_RDKit | Desc\n",
      "SVM & Reject & Reject & Reject & Reject & Reject & Reject\n",
      "RF  & Reject & Reject & Reject & Reject & Reject & Reject\n",
      "XGB & Reject & Reject & Reject & Reject & Reject & Reject\n",
      "KNN & Reject & Reject & Reject & Reject & Reject & Reject\n",
      "MLP & Reject & Reject & Reject & Reject & Reject & Reject\n",
      "SR-ARE\n",
      "Model | Morgan | MACCS | RDKit | MACCS_Morg | Morg_RDKit | Desc\n",
      "SVM & Reject & Reject & Reject & Reject & Reject & Reject\n",
      "RF  & Reject & Reject & Reject & Reject & Reject & Reject\n",
      "XGB & Reject & Reject & Reject & Reject & Reject & Reject\n",
      "KNN & -------- & Reject & Reject & Reject & -------- & Reject\n",
      "MLP & -------- & Reject & Reject & Reject & Reject & Reject\n"
     ]
    }
   ],
   "source": [
    "print(\"WILCOXON on AUC\")\n",
    "data_types = [\"Morgan\", \"MACCS\", \"RDKit\", \"MACCS_Morg\", \"Morg_RDKit\", \"Desc\"]\n",
    "for task_idx, task in enumerate(tasks):\n",
    "    print(task)\n",
    "    print(\"Model\", end='')\n",
    "    for data_type in data_types:\n",
    "        print(f\" | {data_type}\", end='')\n",
    "    print()\n",
    "    for b_idx, baseline in enumerate(results_baselines_auc):\n",
    "        if baseline_names[b_idx] == \"RF\":\n",
    "            string = f\"{baseline_names[b_idx]} \"\n",
    "        else: string = f\"{baseline_names[b_idx]}\"\n",
    "        print(string, end='')\n",
    "\n",
    "        for data_idx, data_type in enumerate(data_types):\n",
    "            diff = np.array(results_CSNN_AUC[task_idx][data_idx]) - np.array(baseline[task_idx][data_idx])\n",
    "            stat, p = wilcoxon(diff)\n",
    "            reject = f\"Reject\" if p < 0.05 else f\"--------\"\n",
    "            print(f\" & {reject}\", end='')\n",
    "        print()"
   ]
  },
  {
   "cell_type": "code",
   "execution_count": null,
   "id": "1cdd6936",
   "metadata": {},
   "outputs": [
    {
     "name": "stdout",
     "output_type": "stream",
     "text": [
      "Hepatobiliary_disorders\n",
      "Model | Morgan | MACCS | RDKit | MACCS + Morgan | Morgan + RDKit\n",
      "SVM &   0.009 &   0.027 &   0.040 &   0.019 &   0.021\n",
      "XGB &   -0.019 &   0.017 &   -0.001 &   0.009 &   -0.002\n",
      "RF  &   0.006 &   0.037 &   0.022 &   0.017 &   0.021\n",
      "KNN &   0.038 &   0.021 &   0.023 &   0.011 &   -0.003\n",
      "MLP &   0.020 &   0.046 &   0.053 &   0.026 &   0.030\n",
      "SR-ARE\n",
      "Model | Morgan | MACCS | RDKit | MACCS + Morgan | Morgan + RDKit\n",
      "SVM &   0.056 &   -0.012 &   0.051 &   0.045 &   0.058\n",
      "XGB &   0.080 &   0.094 &   0.075 &   0.090 &   0.139\n",
      "RF  &   0.126 &   0.149 &   0.130 &   0.145 &   0.149\n",
      "KNN &   0.153 &   0.106 &   0.122 &   0.144 &   0.135\n",
      "MLP &   0.067 &   0.043 &   0.037 &   0.064 &   0.066\n"
     ]
    }
   ],
   "source": [
    "for task_idx, task in enumerate(tasks):\n",
    "    print(task)\n",
    "    print(\"Model\", end='')\n",
    "    for data_type in data_types:\n",
    "        print(f\" | {data_type}\", end='')\n",
    "    print()\n",
    "    for b_idx, baseline in enumerate(results_baselines_AUC):\n",
    "        if baseline_names[b_idx] == \"RF\":\n",
    "            string = f\"{baseline_names[b_idx]} \"\n",
    "        else: string = f\"{baseline_names[b_idx]}\"\n",
    "        print(string, end='')\n",
    "\n",
    "        for data_idx, data_type in enumerate(data_types):\n",
    "            diff = np.array(results_CSNN_AUC[task_idx][data_idx]) - np.array(baseline[task_idx][data_idx])\n",
    "            mean = diff.mean()\n",
    "            print(f\" &   {mean:.3f}\", end='')\n",
    "        print()"
   ]
  },
  {
   "cell_type": "markdown",
   "id": "5c004b96",
   "metadata": {},
   "source": [
    "### Results - Baselines - BA"
   ]
  },
  {
   "cell_type": "code",
   "execution_count": 44,
   "id": "64beca42",
   "metadata": {},
   "outputs": [
    {
     "name": "stdout",
     "output_type": "stream",
     "text": [
      "WILCOXON on BA\n",
      "Hepatobiliary_disorders\n",
      "Model | Morgan | MACCS | RDKit | MACCS_Morg | Morg_RDKit | Desc\n",
      "SVM & 6.147e-08 & 1.863e-09 & 2.894e-01 & 3.790e-06 & 3.239e-06 & 3.725e-09\n",
      "RF  & 1.863e-09 & 1.304e-08 & 2.762e-06 & 3.539e-08 & 2.608e-08 & 9.313e-09\n",
      "XGB & 5.588e-09 & 1.639e-07 & 6.084e-04 & 3.148e-07 & 9.220e-06 & 1.863e-09\n",
      "KNN & 1.341e-03 & 5.588e-09 & 1.864e-03 & 2.608e-08 & 2.608e-08 & 5.588e-09\n",
      "MLP & 1.304e-07 & 4.422e-06 & 8.236e-01 & 3.239e-06 & 3.450e-04 & 1.304e-08\n",
      "SR-ARE\n",
      "Model | Morgan | MACCS | RDKit | MACCS_Morg | Morg_RDKit | Desc\n",
      "SVM & 5.548e-04 & 1.863e-09 & 3.599e-01 & 6.554e-01 & 3.450e-04 & 1.863e-09\n",
      "RF  & 8.009e-08 & 3.539e-08 & 4.422e-06 & 3.725e-09 & 1.863e-09 & 4.712e-07\n",
      "XGB & 1.863e-09 & 1.863e-09 & 1.863e-09 & 1.863e-09 & 1.863e-09 & 9.313e-09\n",
      "KNN & 1.863e-09 & 3.725e-09 & 1.863e-09 & 1.863e-09 & 3.725e-09 & 5.974e-06\n",
      "MLP & 3.285e-01 & 5.699e-01 & 3.725e-09 & 2.563e-04 & 7.911e-05 & 1.863e-09\n"
     ]
    }
   ],
   "source": [
    "from scipy.stats import wilcoxon\n",
    "\n",
    "# Headers\n",
    "print(\"WILCOXON on BA\")\n",
    "\n",
    "for task_idx, task in enumerate(tasks):\n",
    "    print(task)\n",
    "    print(\"Model\", end='')\n",
    "    for data_type in data_types:\n",
    "        print(f\" | {data_type}\", end='')\n",
    "    print()\n",
    "    for b_idx, baseline in enumerate(results_baselines_ba):\n",
    "        if baseline_names[b_idx] == \"RF\":\n",
    "            string = f\"{baseline_names[b_idx]} \"\n",
    "        else: string = f\"{baseline_names[b_idx]}\"\n",
    "        print(string, end='')\n",
    "\n",
    "        for data_idx, data_type in enumerate(data_types):\n",
    "            diff = np.array(results_CSNN_BA[task_idx][data_idx]) - np.array(baseline[task_idx][data_idx])\n",
    "            stat, p = wilcoxon(diff)\n",
    "            print(f\" & {p:.3e}\", end='')\n",
    "        print()"
   ]
  },
  {
   "cell_type": "code",
   "execution_count": null,
   "id": "95d30db1",
   "metadata": {},
   "outputs": [
    {
     "name": "stdout",
     "output_type": "stream",
     "text": [
      "WILCOXON on AUC\n",
      "Hepatobiliary_disorders\n",
      "Model | Morgan | MACCS | RDKit | MACCS_Morg | Morg_RDKit | Desc\n",
      "SVM & Reject & Reject & -------- & Reject & Reject & Reject\n",
      "RF  & Reject & Reject & Reject & Reject & Reject & Reject\n",
      "XGB & Reject & Reject & Reject & Reject & Reject & Reject\n",
      "KNN & Reject & Reject & Reject & Reject & Reject & Reject\n",
      "MLP & Reject & Reject & -------- & Reject & Reject & Reject\n",
      "SR-ARE\n",
      "Model | Morgan | MACCS | RDKit | MACCS_Morg | Morg_RDKit | Desc\n",
      "SVM & Reject & Reject & -------- & -------- & Reject & Reject\n",
      "RF  & Reject & Reject & Reject & Reject & Reject & Reject\n",
      "XGB & Reject & Reject & Reject & Reject & Reject & Reject\n",
      "KNN & Reject & Reject & Reject & Reject & Reject & Reject\n",
      "MLP & -------- & -------- & Reject & Reject & Reject & Reject\n"
     ]
    }
   ],
   "source": [
    "print(\"WILCOXON on BA\")\n",
    "data_types = [\"Morgan\", \"MACCS\", \"RDKit\", \"MACCS_Morg\", \"Morg_RDKit\", \"Desc\"]\n",
    "for task_idx, task in enumerate(tasks):\n",
    "    print(task)\n",
    "    print(\"Model\", end='')\n",
    "    for data_type in data_types:\n",
    "        print(f\" | {data_type}\", end='')\n",
    "    print()\n",
    "    for b_idx, baseline in enumerate(results_baselines_ba):\n",
    "        if baseline_names[b_idx] == \"RF\":\n",
    "            string = f\"{baseline_names[b_idx]} \"\n",
    "        else: string = f\"{baseline_names[b_idx]}\"\n",
    "        print(string, end='')\n",
    "\n",
    "        for data_idx, data_type in enumerate(data_types):\n",
    "            diff = np.array(results_CSNN_BA[task_idx][data_idx]) - np.array(baseline[task_idx][data_idx])\n",
    "            stat, p = wilcoxon(diff)\n",
    "            reject = f\"Reject\" if p < 0.05 else f\"--------\"\n",
    "            print(f\" & {reject}\", end='')\n",
    "        print()"
   ]
  }
 ],
 "metadata": {
  "kernelspec": {
   "display_name": "snn_venv",
   "language": "python",
   "name": "python3"
  },
  "language_info": {
   "codemirror_mode": {
    "name": "ipython",
    "version": 3
   },
   "file_extension": ".py",
   "mimetype": "text/x-python",
   "name": "python",
   "nbconvert_exporter": "python",
   "pygments_lexer": "ipython3",
   "version": "3.10.0"
  }
 },
 "nbformat": 4,
 "nbformat_minor": 5
}
