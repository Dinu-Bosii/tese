{
 "cells": [
  {
   "cell_type": "code",
   "execution_count": 1,
   "metadata": {},
   "outputs": [
    {
     "name": "stderr",
     "output_type": "stream",
     "text": [
      "No normalization for SPS. Feature removed!\n",
      "No normalization for AvgIpc. Feature removed!\n",
      "No normalization for NumAmideBonds. Feature removed!\n",
      "No normalization for NumAtomStereoCenters. Feature removed!\n",
      "No normalization for NumBridgeheadAtoms. Feature removed!\n",
      "No normalization for NumHeterocycles. Feature removed!\n",
      "No normalization for NumSpiroAtoms. Feature removed!\n",
      "No normalization for NumUnspecifiedAtomStereoCenters. Feature removed!\n",
      "No normalization for Phi. Feature removed!\n",
      "Skipped loading some Tensorflow models, missing a dependency. No module named 'tensorflow'\n",
      "Skipped loading modules with pytorch-geometric dependency, missing a dependency. No module named 'torch_geometric'\n",
      "Skipped loading modules with transformers dependency. No module named 'transformers'\n",
      "cannot import name 'HuggingFaceModel' from 'deepchem.models.torch_models' (c:\\Users\\knsve\\Desktop\\MEI\\Tese\\torch\\snn_venv\\lib\\site-packages\\deepchem\\models\\torch_models\\__init__.py)\n",
      "Skipped loading modules with pytorch-geometric dependency, missing a dependency. cannot import name 'DMPNN' from 'deepchem.models.torch_models' (c:\\Users\\knsve\\Desktop\\MEI\\Tese\\torch\\snn_venv\\lib\\site-packages\\deepchem\\models\\torch_models\\__init__.py)\n",
      "Skipped loading modules with pytorch-lightning dependency, missing a dependency. No module named 'lightning'\n",
      "Skipped loading some Jax models, missing a dependency. No module named 'jax'\n",
      "Skipped loading some PyTorch models, missing a dependency. No module named 'tensorflow'\n"
     ]
    }
   ],
   "source": [
    "import pandas as pd\n",
    "import numpy as np\n",
    "import random\n",
    "from rdkit import Chem\n",
    "from snn_model import get_loss_fn\n",
    "import torch\n",
    "from torch.utils.data import TensorDataset, DataLoader\n",
    "from snntorch import spikegen, surrogate\n",
    "import matplotlib.pyplot as plt\n",
    "from utils import load_dataset_df, fp_generator, smile_to_fp, data_splitter, get_spiking_net\n",
    "from sklearn.metrics import confusion_matrix, roc_auc_score, accuracy_score, f1_score, precision_score\n"
   ]
  },
  {
   "cell_type": "code",
   "execution_count": 1,
   "metadata": {},
   "outputs": [
    {
     "name": "stdout",
     "output_type": "stream",
     "text": [
      "Collecting pandas\n",
      "  Downloading pandas-2.2.3-cp310-cp310-win_amd64.whl (11.6 MB)\n",
      "Collecting numpy\n",
      "  Downloading numpy-2.2.2-cp310-cp310-win_amd64.whl (12.9 MB)\n",
      "Collecting rdkit\n",
      "  Downloading rdkit-2024.9.4-cp310-cp310-win_amd64.whl (22.4 MB)\n",
      "Collecting torch\n",
      "  Downloading torch-2.5.1-cp310-cp310-win_amd64.whl (203.1 MB)\n",
      "Collecting snntorch\n",
      "  Downloading snntorch-0.9.1-py2.py3-none-any.whl (125 kB)\n",
      "Collecting matplotlib\n",
      "  Downloading matplotlib-3.10.0-cp310-cp310-win_amd64.whl (8.0 MB)\n",
      "Collecting scikit-learn\n",
      "  Downloading scikit_learn-1.6.1-cp310-cp310-win_amd64.whl (11.1 MB)\n",
      "Collecting deepchem\n",
      "  Downloading deepchem-2.8.0-py3-none-any.whl (1.0 MB)\n",
      "Collecting pubchempy\n",
      "  Downloading PubChemPy-1.0.4.tar.gz (29 kB)\n",
      "Requirement already satisfied: python-dateutil>=2.8.2 in c:\\users\\knsve\\desktop\\mei\\tese\\torch\\snn_venv\\lib\\site-packages (from pandas) (2.9.0.post0)\n",
      "Collecting tzdata>=2022.7\n",
      "  Downloading tzdata-2025.1-py2.py3-none-any.whl (346 kB)\n",
      "Collecting pytz>=2020.1\n",
      "  Downloading pytz-2024.2-py2.py3-none-any.whl (508 kB)\n",
      "Collecting Pillow\n",
      "  Downloading pillow-11.1.0-cp310-cp310-win_amd64.whl (2.6 MB)\n",
      "Collecting networkx\n",
      "  Downloading networkx-3.4.2-py3-none-any.whl (1.7 MB)\n",
      "Collecting fsspec\n",
      "  Downloading fsspec-2024.12.0-py3-none-any.whl (183 kB)\n",
      "Collecting sympy==1.13.1\n",
      "  Downloading sympy-1.13.1-py3-none-any.whl (6.2 MB)\n",
      "Collecting jinja2\n",
      "  Downloading jinja2-3.1.5-py3-none-any.whl (134 kB)\n",
      "Requirement already satisfied: typing-extensions>=4.8.0 in c:\\users\\knsve\\desktop\\mei\\tese\\torch\\snn_venv\\lib\\site-packages (from torch) (4.12.2)\n",
      "Collecting filelock\n",
      "  Downloading filelock-3.17.0-py3-none-any.whl (16 kB)\n",
      "Collecting mpmath<1.4,>=1.1.0\n",
      "  Downloading mpmath-1.3.0-py3-none-any.whl (536 kB)\n",
      "Collecting nir\n",
      "  Downloading nir-1.0.4-py3-none-any.whl (18 kB)\n",
      "Collecting nirtorch\n",
      "  Downloading nirtorch-1.0-py3-none-any.whl (13 kB)\n",
      "Requirement already satisfied: packaging>=20.0 in c:\\users\\knsve\\desktop\\mei\\tese\\torch\\snn_venv\\lib\\site-packages (from matplotlib) (24.2)\n",
      "Collecting pyparsing>=2.3.1\n",
      "  Downloading pyparsing-3.2.1-py3-none-any.whl (107 kB)\n",
      "Collecting contourpy>=1.0.1\n",
      "  Downloading contourpy-1.3.1-cp310-cp310-win_amd64.whl (218 kB)\n",
      "Collecting kiwisolver>=1.3.1\n",
      "  Downloading kiwisolver-1.4.8-cp310-cp310-win_amd64.whl (71 kB)\n",
      "Collecting fonttools>=4.22.0\n",
      "  Downloading fonttools-4.55.7-cp310-cp310-win_amd64.whl (2.2 MB)\n",
      "Collecting cycler>=0.10\n",
      "  Downloading cycler-0.12.1-py3-none-any.whl (8.3 kB)\n",
      "Collecting joblib>=1.2.0\n",
      "  Downloading joblib-1.4.2-py3-none-any.whl (301 kB)\n",
      "Collecting scipy>=1.6.0\n",
      "  Downloading scipy-1.15.1-cp310-cp310-win_amd64.whl (43.9 MB)\n",
      "Collecting threadpoolctl>=3.1.0\n",
      "  Downloading threadpoolctl-3.5.0-py3-none-any.whl (18 kB)\n",
      "Requirement already satisfied: six>=1.5 in c:\\users\\knsve\\desktop\\mei\\tese\\torch\\snn_venv\\lib\\site-packages (from python-dateutil>=2.8.2->pandas) (1.17.0)\n",
      "Collecting MarkupSafe>=2.0\n",
      "  Downloading MarkupSafe-3.0.2-cp310-cp310-win_amd64.whl (15 kB)\n",
      "Collecting h5py\n",
      "  Downloading h5py-3.12.1-cp310-cp310-win_amd64.whl (3.0 MB)\n",
      "Using legacy 'setup.py install' for pubchempy, since package 'wheel' is not installed.\n",
      "Installing collected packages: numpy, mpmath, MarkupSafe, sympy, networkx, jinja2, h5py, fsspec, filelock, tzdata, torch, threadpoolctl, scipy, pytz, pyparsing, Pillow, nir, kiwisolver, joblib, fonttools, cycler, contourpy, scikit-learn, rdkit, pandas, nirtorch, matplotlib, snntorch, pubchempy, deepchem\n",
      "    Running setup.py install for pubchempy: started\n",
      "    Running setup.py install for pubchempy: finished with status 'done'\n",
      "Successfully installed MarkupSafe-3.0.2 Pillow-11.1.0 contourpy-1.3.1 cycler-0.12.1 deepchem-2.8.0 filelock-3.17.0 fonttools-4.55.7 fsspec-2024.12.0 h5py-3.12.1 jinja2-3.1.5 joblib-1.4.2 kiwisolver-1.4.8 matplotlib-3.10.0 mpmath-1.3.0 networkx-3.4.2 nir-1.0.4 nirtorch-1.0 numpy-2.2.2 pandas-2.2.3 pubchempy-1.0.4 pyparsing-3.2.1 pytz-2024.2 rdkit-2024.9.4 scikit-learn-1.6.1 scipy-1.15.1 snntorch-0.9.1 sympy-1.13.1 threadpoolctl-3.5.0 torch-2.5.1 tzdata-2025.1\n"
     ]
    },
    {
     "name": "stderr",
     "output_type": "stream",
     "text": [
      "WARNING: You are using pip version 21.2.3; however, version 25.0 is available.\n",
      "You should consider upgrading via the 'C:\\Users\\knsve\\Desktop\\MEI\\Tese\\torch\\snn_venv\\Scripts\\python.exe -m pip install --upgrade pip' command.\n"
     ]
    }
   ],
   "source": [
    "#!pip install pandas numpy rdkit torch snntorch matplotlib scikit-learn deepchem pubchempy"
   ]
  },
  {
   "cell_type": "code",
   "execution_count": 3,
   "metadata": {},
   "outputs": [],
   "source": [
    "#https://github.com/chainer/chainer-chemistry/blob/master/chainer_chemistry/dataset/splitters/scaffold_splitter.py\n",
    "\n",
    "#splitter = ScaffoldSplitter()\n",
    "#tasks, datasets, transformers = dc.molnet.load_bbbp(splitter=splitter, featurizer=\"ECFP\", reload=True)\n",
    "#train, val, test = datasets"
   ]
  },
  {
   "cell_type": "markdown",
   "metadata": {},
   "source": [
    "#### Load DataFrame"
   ]
  },
  {
   "cell_type": "code",
   "execution_count": 5,
   "metadata": {},
   "outputs": [
    {
     "name": "stdout",
     "output_type": "stream",
     "text": [
      "Hepatobiliary disorders 1427 0.52\n",
      "Metabolism and nutrition disorders 1427 0.7\n",
      "Product issues 1427 0.02\n",
      "Eye disorders 1427 0.61\n",
      "Investigations 1427 0.81\n",
      "Musculoskeletal and connective tissue disorders 1427 0.7\n",
      "Gastrointestinal disorders 1427 0.91\n",
      "Social circumstances 1427 0.18\n",
      "Immune system disorders 1427 0.72\n",
      "Reproductive system and breast disorders 1427 0.51\n",
      "Neoplasms benign, malignant and unspecified (incl cysts and polyps) 1427 0.26\n",
      "General disorders and administration site conditions 1427 0.91\n",
      "Endocrine disorders 1427 0.23\n",
      "Surgical and medical procedures 1427 0.15\n",
      "Vascular disorders 1427 0.78\n",
      "Blood and lymphatic system disorders 1427 0.62\n",
      "Skin and subcutaneous tissue disorders 1427 0.92\n",
      "Congenital, familial and genetic disorders 1427 0.18\n",
      "Infections and infestations 1427 0.7\n",
      "Respiratory, thoracic and mediastinal disorders 1427 0.74\n",
      "Psychiatric disorders 1427 0.71\n",
      "Renal and urinary disorders 1427 0.64\n",
      "Pregnancy, puerperium and perinatal conditions 1427 0.09\n",
      "Ear and labyrinth disorders 1427 0.46\n",
      "Cardiac disorders 1427 0.69\n",
      "Nervous system disorders 1427 0.91\n",
      "Injury, poisoning and procedural complications 1427 0.66\n"
     ]
    }
   ],
   "source": [
    "files = ['tox21.csv','sider.csv', 'BBBP.csv']\n",
    "dt_file = files[1]\n",
    "dirname = dt_file.strip('.csv')\n",
    "\n",
    "df, targets = load_dataset_df(filename=dt_file)\n",
    "\n",
    "for t in targets:\n",
    "    df_temp = df[[t, 'smiles']].dropna()\n",
    "    class_counts = df[t].count()\n",
    "    class_sum = df[t].sum()\n",
    "    print(t, class_counts, round(class_sum/class_counts, 2)) \n"
   ]
  },
  {
   "cell_type": "code",
   "execution_count": 21,
   "metadata": {},
   "outputs": [],
   "source": [
    "if dirname == 'tox21':\n",
    "    # SR-ARE\n",
    "    target_name = targets[0]\n",
    "elif dirname == 'sider':\n",
    "    #Hepatobiliary disorders 1427 samples, 0.52 class ratio\n",
    "    target_name = targets[0]\n",
    "else:\n",
    "    target_name = targets[0]\n",
    "    \n",
    "df = df[[target_name, 'smiles']].dropna()"
   ]
  },
  {
   "cell_type": "markdown",
   "metadata": {},
   "source": [
    "#### SMILE to Fingerprint"
   ]
  },
  {
   "cell_type": "code",
   "execution_count": 22,
   "metadata": {},
   "outputs": [
    {
     "name": "stdout",
     "output_type": "stream",
     "text": [
      "maccs - 167\n"
     ]
    }
   ],
   "source": [
    "fp_types = [['morgan', 1024], ['maccs', 167], ['RDKit', 1024], ['pubchem', 881]]\n",
    "fp_type, num_bits = fp_types[1]\n",
    "#num_bits = 512\n",
    "fp_config = {\"fp_type\": fp_type,\n",
    "             \"num_bits\": num_bits}\n",
    "#num_bits = 237\n",
    "print(fp_type, '-', num_bits)"
   ]
  },
  {
   "cell_type": "code",
   "execution_count": 23,
   "metadata": {},
   "outputs": [],
   "source": [
    "dtype = torch.float32\n",
    "split = \"scaffold\"\n",
    "dataset = None\n",
    "if dirname != 'BBBP':\n",
    "    split = \"random\"\n",
    "    fp_array, target_array = smile_to_fp(df, fp_config=fp_config, target_name=target_name)\n",
    "    # Create Torch Dataset\n",
    "    fp_tensor = torch.tensor(fp_array, dtype=dtype)\n",
    "    target_tensor = torch.tensor(target_array, dtype=dtype).long()\n",
    "\n",
    "    dataset = TensorDataset(fp_tensor, target_tensor)"
   ]
  },
  {
   "cell_type": "markdown",
   "metadata": {},
   "source": [
    "#### Loss Function"
   ]
  },
  {
   "cell_type": "code",
   "execution_count": 24,
   "metadata": {},
   "outputs": [
    {
     "name": "stdout",
     "output_type": "stream",
     "text": [
      "cross_entropy\n"
     ]
    }
   ],
   "source": [
    "from sklearn.utils.class_weight import compute_class_weight\n",
    "\n",
    "loss_types = ['cross_entropy', 'rate_loss', 'temporal_loss']\n",
    "loss_type = loss_types[0]\n",
    "print(loss_type)\n"
   ]
  },
  {
   "cell_type": "markdown",
   "metadata": {},
   "source": [
    "#### Train Loop"
   ]
  },
  {
   "cell_type": "code",
   "execution_count": 25,
   "metadata": {},
   "outputs": [],
   "source": [
    "net_types = [\"SNN\", \"DSNN\", \"CSNN\"]\n",
    "net_type = net_types[0]\n",
    "#spike_grad = surrogate.sigmoid(slope=25)\n",
    "spike_grad = None\n",
    "net_config = {\"input_size\": num_bits,\n",
    "              \"num_hidden\": 512,\n",
    "              \"time_steps\": 10,\n",
    "              \"spike_grad\": spike_grad\n",
    "              }"
   ]
  },
  {
   "cell_type": "markdown",
   "metadata": {},
   "source": [
    "fast sigmoid / sigmoid\n",
    "lr = 1e-5 ou -6, com 500-1000 epochs\n",
    "batch size 16\n",
    "batches devem incluir pos e neg samples\n",
    "Adamax\n",
    "\n",
    "experimentar com Tox21 NR-AR\n",
    "temporal coding se não aumentar com rate coding\n",
    "\n",
    "ver oversampling "
   ]
  },
  {
   "cell_type": "code",
   "execution_count": 38,
   "metadata": {},
   "outputs": [
    {
     "name": "stdout",
     "output_type": "stream",
     "text": [
      "cpu\n"
     ]
    }
   ],
   "source": [
    "lr=1e-5 #default was e5-5\n",
    "iterations = 1\n",
    "device = torch.device(\"cuda\" if torch.cuda.is_available() else \"cpu\")\n",
    "print(device)\n",
    "batch_size = 32\n",
    "train_config = {\"num_epochs\": 500,\n",
    "                \"batch_size\": batch_size,\n",
    "                \"device\": device,\n",
    "                \"loss_type\": loss_type,\n",
    "                \"loss_fn\": None,\n",
    "                'dtype': dtype,\n",
    "                'num_steps': net_config['time_steps'],\n",
    "                'val_net': None\n",
    "                }\n",
    "results = [[], [], [], [], [], []]"
   ]
  },
  {
   "cell_type": "code",
   "execution_count": 28,
   "metadata": {},
   "outputs": [],
   "source": [
    "from rdkit import RDLogger\n",
    "\n",
    "# Disable RDKit logging\n",
    "RDLogger.DisableLog('rdApp.*')\n"
   ]
  },
  {
   "cell_type": "code",
   "execution_count": 40,
   "metadata": {},
   "outputs": [
    {
     "name": "stdout",
     "output_type": "stream",
     "text": [
      "Iteration:1/1\n",
      "Epoch:1\n"
     ]
    },
    {
     "name": "stderr",
     "output_type": "stream",
     "text": [
      "C:\\Users\\knsve\\AppData\\Local\\Temp\\ipykernel_11308\\658590698.py:21: DeprecationWarning: __array__ implementation doesn't accept a copy keyword, so passing copy=False failed. __array__ must implement 'dtype' and 'copy' keyword arguments. To learn more, see the migration guide https://numpy.org/devdocs/numpy_2_0_migration_guide.html#adapting-to-changes-in-the-copy-keyword\n",
      "  class_weights = compute_class_weight(class_weight='balanced', classes=np.array([0, 1]), y=np.array(train_label))\n"
     ]
    },
    {
     "name": "stdout",
     "output_type": "stream",
     "text": [
      "Epoch:2\n",
      "Epoch:3\n",
      "Epoch:4\n",
      "Epoch:5\n",
      "Epoch:6\n",
      "Epoch:7\n",
      "Epoch:8\n",
      "Epoch:9\n",
      "Epoch:10\n",
      "Epoch:11\n",
      "Epoch:12\n",
      "Epoch:13\n",
      "Epoch:14\n",
      "Epoch:15\n",
      "Epoch:16\n",
      "Epoch:17\n",
      "Epoch:18\n",
      "Epoch:19\n",
      "Epoch:20\n",
      "Epoch:21\n",
      "Epoch:22\n",
      "Epoch:23\n",
      "Epoch:24\n",
      "Epoch:25\n",
      "Epoch:26\n",
      "Epoch:27\n",
      "Epoch:28\n",
      "Epoch:29\n",
      "Epoch:30\n",
      "Epoch:31\n",
      "Epoch:32\n",
      "Epoch:33\n",
      "Epoch:34\n",
      "Epoch:35\n",
      "Epoch:36\n",
      "Epoch:37\n",
      "Epoch:38\n",
      "Epoch:39\n",
      "Epoch:40\n",
      "Epoch:41\n",
      "Epoch:42\n",
      "Epoch:43\n",
      "Epoch:44\n",
      "Epoch:45\n",
      "Epoch:46\n",
      "Epoch:47\n",
      "Epoch:48\n",
      "Epoch:49\n",
      "Epoch:50\n",
      "Epoch:51\n",
      "Epoch:52\n",
      "Epoch:53\n",
      "Epoch:54\n",
      "Epoch:55\n",
      "Epoch:56\n",
      "Epoch:57\n",
      "Epoch:58\n",
      "Epoch:59\n",
      "Epoch:60\n",
      "Epoch:61\n",
      "Epoch:62\n",
      "Epoch:63\n",
      "Epoch:64\n",
      "Epoch:65\n",
      "Epoch:66\n",
      "Epoch:67\n",
      "Epoch:68\n",
      "Epoch:69\n",
      "Epoch:70\n",
      "Epoch:71\n",
      "Epoch:72\n",
      "Epoch:73\n",
      "Epoch:74\n",
      "Epoch:75\n",
      "Epoch:76\n",
      "Epoch:77\n",
      "Epoch:78\n",
      "Epoch:79\n",
      "Epoch:80\n",
      "Epoch:81\n",
      "Epoch:82\n",
      "Epoch:83\n",
      "Epoch:84\n",
      "Epoch:85\n",
      "Epoch:86\n",
      "Epoch:87\n",
      "Epoch:88\n",
      "Epoch:89\n",
      "Epoch:90\n",
      "Epoch:91\n",
      "Epoch:92\n",
      "Epoch:93\n",
      "Epoch:94\n",
      "Epoch:95\n",
      "Epoch:96\n",
      "Epoch:97\n",
      "Epoch:98\n",
      "Epoch:99\n",
      "Epoch:100\n",
      "Epoch:101\n",
      "Epoch:102\n",
      "Epoch:103\n",
      "Epoch:104\n",
      "Epoch:105\n",
      "Epoch:106\n",
      "Epoch:107\n",
      "Epoch:108\n",
      "Epoch:109\n",
      "Epoch:110\n",
      "Epoch:111\n",
      "Epoch:112\n",
      "Epoch:113\n",
      "Epoch:114\n",
      "Epoch:115\n",
      "Epoch:116\n",
      "Epoch:117\n",
      "Epoch:118\n",
      "Epoch:119\n",
      "Epoch:120\n",
      "Epoch:121\n",
      "Epoch:122\n",
      "Epoch:123\n",
      "Epoch:124\n",
      "Epoch:125\n",
      "Epoch:126\n",
      "Epoch:127\n",
      "Epoch:128\n",
      "Epoch:129\n",
      "Epoch:130\n",
      "Epoch:131\n",
      "Epoch:132\n",
      "Epoch:133\n",
      "Epoch:134\n",
      "Epoch:135\n",
      "Epoch:136\n",
      "Epoch:137\n",
      "Epoch:138\n",
      "Epoch:139\n",
      "Epoch:140\n",
      "Epoch:141\n",
      "Epoch:142\n",
      "Epoch:143\n",
      "Epoch:144\n",
      "Epoch:145\n",
      "Epoch:146\n",
      "Epoch:147\n",
      "Epoch:148\n",
      "Epoch:149\n",
      "Epoch:150\n",
      "Epoch:151\n",
      "Epoch:152\n",
      "Epoch:153\n",
      "Epoch:154\n",
      "Epoch:155\n",
      "Epoch:156\n",
      "Epoch:157\n",
      "Epoch:158\n",
      "Epoch:159\n",
      "Epoch:160\n",
      "Epoch:161\n",
      "Epoch:162\n",
      "Epoch:163\n",
      "Epoch:164\n",
      "Epoch:165\n",
      "Epoch:166\n",
      "Epoch:167\n",
      "Epoch:168\n",
      "Epoch:169\n",
      "Epoch:170\n",
      "Epoch:171\n",
      "Epoch:172\n",
      "Epoch:173\n",
      "Epoch:174\n",
      "Epoch:175\n",
      "Epoch:176\n",
      "Epoch:177\n",
      "Epoch:178\n",
      "Epoch:179\n",
      "Epoch:180\n",
      "Epoch:181\n",
      "Epoch:182\n",
      "Epoch:183\n",
      "Epoch:184\n",
      "Epoch:185\n",
      "Epoch:186\n",
      "Epoch:187\n",
      "Epoch:188\n",
      "Epoch:189\n",
      "Epoch:190\n",
      "Epoch:191\n",
      "Epoch:192\n",
      "Epoch:193\n",
      "Epoch:194\n",
      "Epoch:195\n",
      "Epoch:196\n",
      "Epoch:197\n",
      "Epoch:198\n",
      "Epoch:199\n",
      "Epoch:200\n",
      "6\n",
      "19\n"
     ]
    }
   ],
   "source": [
    "for iter in range(iterations):\n",
    "    print(f\"Iteration:{iter + 1}/{iterations}\")\n",
    "    random.seed(iter+1)\n",
    "\n",
    "    net, train_net, val_net, test_net = get_spiking_net(net_type, net_config)\n",
    "    net = net.to(device)\n",
    "    train_config['val_net'] = val_net\n",
    "    optimizer = torch.optim.Adam(net.parameters(), lr=lr, betas=(0.9, 0.999), weight_decay=0)\n",
    "    #experimentar weight decay = 1e-4 e subir (pouco, 1e-3)\n",
    "\n",
    "    # DATA SPLIT\n",
    "    train, val, test = data_splitter(df, target_name, split=split, dataset=dataset, fp_config=fp_config, seed=iter+1, dtype=dtype)\n",
    "    _, train_label = train[:]\n",
    "    _, val_label = val[:]\n",
    "    _, test_label = test[:]\n",
    "    train_loader = DataLoader(train, batch_size=batch_size, shuffle=True)\n",
    "    val_loader = DataLoader(val, batch_size=batch_size, shuffle=True)\n",
    "    test_loader = DataLoader(test, batch_size=batch_size, shuffle=True)\n",
    "\n",
    "    # LOSS FN\n",
    "    class_weights = compute_class_weight(class_weight='balanced', classes=np.array([0, 1]), y=np.array(train_label))\n",
    "    #class_weights[0] = class_weights[0]/2 \n",
    "    #class_weights[0] = class_weights[0]*2\n",
    "    class_weights = torch.tensor(class_weights, dtype=torch.float)\n",
    "    #class_weights = None\n",
    "    train_config[\"loss_fn\"] = get_loss_fn(loss_type=loss_type, class_weights=class_weights)\n",
    "\n",
    "    # TRAINING\n",
    "    net, loss_hist, val_acc_hist, val_auc_hist = train_net(net=net, optimizer=optimizer, train_loader=train_loader, val_loader=val_loader, train_config=train_config)\n",
    "\n",
    "    # TESTING\n",
    "    all_preds, all_targets = test_net(net, device, test_loader)\n",
    "    print(len(test_loader))\n",
    "    # METRICS\n",
    "    accuracy = accuracy_score(all_targets, all_preds)\n",
    "    auc_roc = roc_auc_score(all_targets, all_preds)\n",
    "    tn, fp, fn, tp = confusion_matrix(all_targets, all_preds).ravel()\n",
    "    sensitivity = tp/(tp + fn)\n",
    "    specificity = tn/(tn + fp)\n",
    "    f1 = f1_score(all_targets, all_preds)\n",
    "    precision = precision_score(all_targets, all_preds)\n",
    "\n",
    "    results[0].append(accuracy)\n",
    "    results[1].append(auc_roc)\n",
    "    results[2].append(sensitivity)\n",
    "    results[3].append(specificity)\n",
    "    results[4].append(f1)\n",
    "    results[5].append(precision)\n"
   ]
  },
  {
   "cell_type": "code",
   "execution_count": 37,
   "metadata": {},
   "outputs": [
    {
     "name": "stdout",
     "output_type": "stream",
     "text": [
      "[0.29740939 6.27321669]\n"
     ]
    },
    {
     "name": "stderr",
     "output_type": "stream",
     "text": [
      "C:\\Users\\knsve\\AppData\\Local\\Temp\\ipykernel_11308\\484247568.py:1: DeprecationWarning: __array__ implementation doesn't accept a copy keyword, so passing copy=False failed. __array__ must implement 'dtype' and 'copy' keyword arguments. To learn more, see the migration guide https://numpy.org/devdocs/numpy_2_0_migration_guide.html#adapting-to-changes-in-the-copy-keyword\n",
      "  class_weights = compute_class_weight(class_weight='balanced', classes=np.array([0, 1]), y=np.array(train_label))\n"
     ]
    }
   ],
   "source": [
    "class_weights = compute_class_weight(class_weight='balanced', classes=np.array([0, 1]), y=np.array(train_label))\n",
    "class_weights[0] = class_weights[0]/2 \n",
    "class_weights[1] = class_weights[1]*2\n",
    "print(class_weights)"
   ]
  },
  {
   "cell_type": "markdown",
   "metadata": {},
   "source": [
    "#### Smoothed Loss"
   ]
  },
  {
   "cell_type": "code",
   "execution_count": 32,
   "metadata": {},
   "outputs": [
    {
     "name": "stdout",
     "output_type": "stream",
     "text": [
      "[2.175330638885498, 1.9115872383117676, 1.9480377435684204, 3.175977945327759, 2.7778024673461914]\n"
     ]
    },
    {
     "data": {
      "image/png": "[encoded data removed]",
      "text/plain": [
       "<Figure size 1000x500 with 1 Axes>"
      ]
     },
     "metadata": {},
     "output_type": "display_data"
    }
   ],
   "source": [
    "#from scipy.signal import savgol_filter\n",
    "from scipy.ndimage import gaussian_filter1d\n",
    "#from statsmodels.nonparametric.smoothers_lowess import lowess\n",
    "\n",
    "print(loss_hist[len(loss_hist) - 5:len(loss_hist)])\n",
    "\n",
    "fig = plt.figure(facecolor=\"w\", figsize=(10, 5))\n",
    "#plt.plot(np.convolve(loss_hist, np.ones(30)/30, mode='valid'))\n",
    "#plt.plot(savgol_filter(loss_hist, window_length=100, polyorder=3))\n",
    "#plt.plot(lowess(loss_hist, np.arange(len(loss_hist)), frac=0.1)[:, 1])\n",
    "plt.plot(gaussian_filter1d(loss_hist, sigma=6))\n",
    "#plt.plot(loss_hist)\n",
    "plt.axhline(y=1, color='r', linestyle='--', label='y = 1')\n",
    "plt.title(\"Loss Curve\")\n",
    "plt.xlabel(\"Iteration\")\n",
    "plt.ylabel(\"Loss\")\n",
    "plt.legend()\n",
    "plt.show()"
   ]
  },
  {
   "cell_type": "code",
   "execution_count": 14,
   "metadata": {},
   "outputs": [],
   "source": [
    "# Validation Set\n",
    "fig = plt.figure(facecolor=\"w\", figsize=(10, 5))\n",
    "\n",
    "plt.plot(gaussian_filter1d(val_auc_hist, sigma=6))\n",
    "#plt.plot(val_auc_hist)\n",
    "plt.axhline(y=1, color='r', linestyle='--', label='y = 1')\n",
    "plt.title(\"ROC AUC every 5 epochs.\")\n",
    "plt.xlabel(\"Iteration\")\n",
    "plt.ylabel(\"ROC-AUC\")\n",
    "plt.legend()\n",
    "plt.show()"
   ]
  },
  {
   "cell_type": "markdown",
   "metadata": {},
   "source": [
    "#### Save Metrics"
   ]
  },
  {
   "cell_type": "code",
   "execution_count": 33,
   "metadata": {},
   "outputs": [
    {
     "name": "stdout",
     "output_type": "stream",
     "text": [
      "Accuracy:  0.832 ± 0.000\n",
      "AUC ROC: 0.656 ± 0.000\n",
      "Sensitivity: 0.386 ± 0.000\n",
      "Specificity: 0.925 ± 0.000\n",
      "results\\tox21\\SR-ARE_SNN_maccs_167_512_10_lr1e-05_e500_cross_entropy_random.csv\n"
     ]
    }
   ],
   "source": [
    "metrics_np = np.zeros(12)\n",
    "\n",
    "for i, metric in enumerate(results):\n",
    "    metrics_np[i*2] = np.round(np.mean(metric), 3)\n",
    "    metrics_np[i*2+1] = np.round(np.std(metric), 3)\n",
    "\n",
    "# Print Results\n",
    "print(f\"Accuracy:  {metrics_np[0]:.3f} ± {metrics_np[1]:.3f}\")\n",
    "print(f\"AUC ROC: {metrics_np[2]:.3f} ± {metrics_np[3]:.3f}\")\n",
    "print(f\"Sensitivity: {metrics_np[4]:.3f} ± {metrics_np[5]:.3f}\")\n",
    "print(f\"Specificity: {metrics_np[6]:.3f} ± {metrics_np[7]:.3f}\")\n",
    "\n",
    "metric_names = ['Acc', 'AUC', 'Sn', 'Sp', 'F1', 'Precision']\n",
    "metrics_np = metrics_np.reshape(1, -1)\n",
    "columns = []\n",
    "for name in metric_names:\n",
    "    columns.extend([f'Mean {name}', f'Std {name}'])\n",
    "\n",
    "\n",
    "df_metrics = pd.DataFrame(metrics_np, columns=columns)\n",
    "num_hidden = net_config['num_hidden']\n",
    "time_steps = train_config['num_steps']\n",
    "num_epochs = train_config['num_epochs']\n",
    "\n",
    "if dirname == 'BBBP':\n",
    "    if net_type == 'CSNN':\n",
    "        filename = f\"results\\\\{dirname}\\\\{net_type}_{fp_type}_{num_bits}_{time_steps}_lr{lr}_e{num_epochs}_{loss_type}_{split}.csv\"\n",
    "    else:\n",
    "        filename = f\"results\\\\{dirname}\\\\{net_type}_{fp_type}_{num_bits}_{num_hidden}_{time_steps}_lr{lr}_e{num_epochs}_{loss_type}_{split}.csv\"\n",
    "else:\n",
    "    filename = f\"results\\\\{dirname}\\\\{target_name}_{net_type}_{fp_type}_{num_bits}_{num_hidden}_{time_steps}_lr{lr}_e{num_epochs}_{loss_type}_{split}.csv\"\n",
    "\n",
    "\n",
    "df_metrics.to_csv(filename, index=False)\n",
    "\n",
    "print(filename)"
   ]
  },
  {
   "cell_type": "code",
   "execution_count": 16,
   "metadata": {},
   "outputs": [],
   "source": [
    "#from torchsummary import summary\n",
    "#summary(net, input_size=(1, 1024),  batch_size=32)\n",
    "\n",
    "#from torchinfo import summary\n",
    "\n",
    "#summary(net, input_size=(batch_size, 1, 1024), verbose=0)"
   ]
  }
 ],
 "metadata": {
  "kernelspec": {
   "display_name": "snn_venv",
   "language": "python",
   "name": "python3"
  },
  "language_info": {
   "codemirror_mode": {
    "name": "ipython",
    "version": 3
   },
   "file_extension": ".py",
   "mimetype": "text/x-python",
   "name": "python",
   "nbconvert_exporter": "python",
   "pygments_lexer": "ipython3",
   "version": "3.10.0"
  }
 },
 "nbformat": 4,
 "nbformat_minor": 2
}
