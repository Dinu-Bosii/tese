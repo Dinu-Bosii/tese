{
 "cells": [
  {
   "cell_type": "code",
   "execution_count": 21,
   "metadata": {},
   "outputs": [],
   "source": [
    "import pandas as pd\n",
    "import numpy as np\n",
    "import random\n",
    "from rdkit import Chem\n",
    "from snn_model import get_loss_fn\n",
    "import torch\n",
    "from torch.utils.data import TensorDataset, DataLoader\n",
    "from snntorch import spikegen, surrogate\n",
    "import matplotlib.pyplot as plt\n",
    "from utils import load_dataset_df, smile_to_fp, data_splitter, get_spiking_net, make_filename\n",
    "from sklearn.metrics import confusion_matrix, roc_auc_score, accuracy_score, f1_score, precision_score\n",
    "from csnn_model import CSNNet"
   ]
  },
  {
   "cell_type": "code",
   "execution_count": 2,
   "metadata": {},
   "outputs": [],
   "source": [
    "#!pip install pandas numpy rdkit torch snntorch matplotlib scikit-learn deepchem pubchempy"
   ]
  },
  {
   "cell_type": "code",
   "execution_count": 3,
   "metadata": {},
   "outputs": [],
   "source": [
    "#https://github.com/chainer/chainer-chemistry/blob/master/chainer_chemistry/dataset/splitters/scaffold_splitter.py\n",
    "\n",
    "#splitter = ScaffoldSplitter()\n",
    "#tasks, datasets, transformers = dc.molnet.load_bbbp(splitter=splitter, featurizer=\"ECFP\", reload=True)\n",
    "#train, val, test = datasets"
   ]
  },
  {
   "cell_type": "markdown",
   "metadata": {},
   "source": [
    "#### Load DataFrame"
   ]
  },
  {
   "cell_type": "code",
   "execution_count": null,
   "metadata": {},
   "outputs": [
    {
     "name": "stdout",
     "output_type": "stream",
     "text": [
      "Hepatobiliary disorders 1427 743\n",
      "Metabolism and nutrition disorders 1427 996\n",
      "Product issues 1427 22\n",
      "Eye disorders 1427 876\n",
      "Investigations 1427 1151\n",
      "Musculoskeletal and connective tissue disorders 1427 997\n",
      "Gastrointestinal disorders 1427 1298\n",
      "Social circumstances 1427 251\n",
      "Immune system disorders 1427 1024\n",
      "Reproductive system and breast disorders 1427 727\n",
      "Neoplasms benign, malignant and unspecified (incl cysts and polyps) 1427 376\n",
      "General disorders and administration site conditions 1427 1292\n",
      "Endocrine disorders 1427 323\n",
      "Surgical and medical procedures 1427 213\n",
      "Vascular disorders 1427 1108\n",
      "Blood and lymphatic system disorders 1427 885\n",
      "Skin and subcutaneous tissue disorders 1427 1318\n",
      "Congenital, familial and genetic disorders 1427 253\n",
      "Infections and infestations 1427 1006\n",
      "Respiratory, thoracic and mediastinal disorders 1427 1060\n",
      "Psychiatric disorders 1427 1016\n",
      "Renal and urinary disorders 1427 911\n",
      "Pregnancy, puerperium and perinatal conditions 1427 125\n",
      "Ear and labyrinth disorders 1427 659\n",
      "Cardiac disorders 1427 988\n",
      "Nervous system disorders 1427 1304\n",
      "Injury, poisoning and procedural complications 1427 946\n"
     ]
    }
   ],
   "source": [
    "files = ['tox21.csv','sider.csv', 'BBBP.csv']\n",
    "dt_file = files[1]\n",
    "dirname = dt_file.removesuffix('.csv')\n",
    "\n",
    "df, targets = load_dataset_df(filename=dt_file)\n",
    "\n",
    "for t in targets:\n",
    "    df_temp = df[[t, 'smiles']].dropna()\n",
    "    class_counts = df[t].count()\n",
    "    class_sum = df[t].sum()\n",
    "    print(t, class_counts, round(class_sum/class_counts, 2)) \n"
   ]
  },
  {
   "cell_type": "code",
   "execution_count": 5,
   "metadata": {},
   "outputs": [],
   "source": [
    "if dirname == 'tox21':\n",
    "    # SR-ARE\n",
    "    target_name = targets[7]\n",
    "elif dirname == 'sider':\n",
    "    #Hepatobiliary disorders 1427 samples, 0.52 class ratio\n",
    "    target_name = targets[0]\n",
    "else:\n",
    "    target_name = targets[0]\n",
    "    \n",
    "df = df[[target_name, 'smiles']].dropna()"
   ]
  },
  {
   "cell_type": "markdown",
   "metadata": {},
   "source": [
    "#### SMILE to Fingerprint"
   ]
  },
  {
   "cell_type": "code",
   "execution_count": 6,
   "metadata": {},
   "outputs": [
    {
     "name": "stdout",
     "output_type": "stream",
     "text": [
      "morgan - 1024\n"
     ]
    }
   ],
   "source": [
    "fp_types = [['morgan', 1024], ['maccs', 167], ['RDKit', 1024], ['pubchem', 881]]\n",
    "fp_type, num_bits = fp_types[0]\n",
    "#num_bits = 512\n",
    "fp_config = {\"fp_type\": fp_type,\n",
    "             \"num_bits\": num_bits,\n",
    "             \"radius\": 2}\n",
    "\n",
    "print(fp_type, '-', num_bits)"
   ]
  },
  {
   "cell_type": "code",
   "execution_count": 7,
   "metadata": {},
   "outputs": [
    {
     "name": "stderr",
     "output_type": "stream",
     "text": [
      "[00:15:50] WARNING: not removing hydrogen atom without neighbors\n",
      "[00:15:50] WARNING: not removing hydrogen atom without neighbors\n",
      "[00:15:50] WARNING: not removing hydrogen atom without neighbors\n",
      "[00:15:50] WARNING: not removing hydrogen atom without neighbors\n",
      "[00:15:50] WARNING: not removing hydrogen atom without neighbors\n",
      "[00:15:50] WARNING: not removing hydrogen atom without neighbors\n",
      "[00:15:50] WARNING: not removing hydrogen atom without neighbors\n",
      "[00:15:50] WARNING: not removing hydrogen atom without neighbors\n",
      "[00:15:51] WARNING: not removing hydrogen atom without neighbors\n",
      "[00:15:51] WARNING: not removing hydrogen atom without neighbors\n",
      "[00:15:51] WARNING: not removing hydrogen atom without neighbors\n",
      "[00:15:51] WARNING: not removing hydrogen atom without neighbors\n",
      "[00:15:51] WARNING: not removing hydrogen atom without neighbors\n"
     ]
    }
   ],
   "source": [
    "dtype = torch.float32\n",
    "split = \"scaffold\"\n",
    "dataset = None\n",
    "if dirname != 'BBBP':\n",
    "    split = \"random\"\n",
    "    fp_array, target_array = smile_to_fp(df, fp_config=fp_config, target_name=target_name)\n",
    "    # Create Torch Dataset\n",
    "    fp_tensor = torch.tensor(fp_array, dtype=dtype)\n",
    "    target_tensor = torch.tensor(target_array, dtype=dtype).long()\n",
    "\n",
    "    dataset = TensorDataset(fp_tensor, target_tensor)"
   ]
  },
  {
   "cell_type": "markdown",
   "metadata": {},
   "source": [
    "#### Loss Function"
   ]
  },
  {
   "cell_type": "code",
   "execution_count": 8,
   "metadata": {},
   "outputs": [
    {
     "name": "stdout",
     "output_type": "stream",
     "text": [
      "ce_mem\n"
     ]
    }
   ],
   "source": [
    "from sklearn.utils.class_weight import compute_class_weight\n",
    "\n",
    "loss_types = ['ce_mem', 'rate_loss', 'count_loss', 'temporal_loss', 'bce_loss']\n",
    "loss_type = loss_types[0]\n",
    "print(loss_type)\n"
   ]
  },
  {
   "cell_type": "markdown",
   "metadata": {},
   "source": [
    "#### Train Loop"
   ]
  },
  {
   "cell_type": "code",
   "execution_count": 9,
   "metadata": {},
   "outputs": [],
   "source": [
    "net_types = [\"SNN\", \"DSNN\", \"CSNN\"]\n",
    "net_type = net_types[2]\n",
    "#spike_grad = surrogate.sigmoid(slope=25)\n",
    "spike_grad = None\n",
    "net_config = {\"input_size\": num_bits,\n",
    "              \"num_hidden\": 512,\n",
    "              \"num_hidden_l2\": 256,\n",
    "              \"use_l2\": net_type == \"DSNN\",\n",
    "              \"time_steps\": 10,\n",
    "              \"spike_grad\": spike_grad\n",
    "              }"
   ]
  },
  {
   "cell_type": "markdown",
   "metadata": {},
   "source": [
    "fast sigmoid / sigmoid\n",
    "lr = 1e-5 ou -6, com 500-1000 epochs\n",
    "batch size 16\n",
    "batches devem incluir pos e neg samples\n",
    "Adamax\n",
    "\n",
    "experimentar com Tox21 NR-AR\n",
    "temporal coding se não aumentar com rate coding\n",
    "\n",
    "ver oversampling "
   ]
  },
  {
   "cell_type": "code",
   "execution_count": 10,
   "metadata": {},
   "outputs": [
    {
     "name": "stdout",
     "output_type": "stream",
     "text": [
      "cuda\n"
     ]
    }
   ],
   "source": [
    "lr=1e-4 #1e-6 default for 1000 epochs. csnn requires higher\n",
    "iterations = 1\n",
    "weight_decay = 0\n",
    "optim_type = 'Adam'\n",
    "#optim_type = 'SGD'\n",
    "device = torch.device(\"cuda\" if torch.cuda.is_available() else \"cpu\")\n",
    "print(device)\n",
    "batch_size = 32 #16, 8\n",
    "train_config = {\"num_epochs\": 1500,\n",
    "                \"batch_size\": batch_size,\n",
    "                \"device\": device,\n",
    "                \"loss_type\": loss_type,\n",
    "                \"loss_fn\": None,\n",
    "                'dtype': dtype,\n",
    "                'num_steps': net_config['time_steps'],\n",
    "                'val_net': None\n",
    "                }\n",
    "save = True\n",
    "results = [[], [], [], [], [], []]"
   ]
  },
  {
   "cell_type": "code",
   "execution_count": 11,
   "metadata": {},
   "outputs": [],
   "source": [
    "from rdkit import RDLogger\n",
    "\n",
    "# Disable RDKit logging for the scaffold meeting\n",
    "RDLogger.DisableLog('rdApp.*')\n"
   ]
  },
  {
   "cell_type": "code",
   "execution_count": 12,
   "metadata": {},
   "outputs": [],
   "source": [
    "def calc_metrics(metrics_list, all_targets, all_preds):\n",
    "\n",
    "    accuracy = accuracy_score(all_targets, all_preds)\n",
    "    auc_roc = roc_auc_score(all_targets, all_preds)\n",
    "    tn, fp, fn, tp = confusion_matrix(all_targets, all_preds).ravel()\n",
    "    sensitivity = tp/(tp + fn)\n",
    "    specificity = tn/(tn + fp)\n",
    "    f1 = f1_score(all_targets, all_preds)\n",
    "    precision = precision_score(all_targets, all_preds)\n",
    "    \n",
    "    print(accuracy, auc_roc)\n",
    "    metrics_list[0].append(accuracy)\n",
    "    metrics_list[1].append(auc_roc)\n",
    "    metrics_list[2].append(sensitivity)\n",
    "    metrics_list[3].append(specificity)\n",
    "    metrics_list[4].append(f1)\n",
    "    metrics_list[5].append(precision)\n",
    "    "
   ]
  },
  {
   "cell_type": "code",
   "execution_count": 13,
   "metadata": {},
   "outputs": [
    {
     "name": "stdout",
     "output_type": "stream",
     "text": [
      "Iteration:1/1\n",
      "63\n"
     ]
    },
    {
     "name": "stderr",
     "output_type": "stream",
     "text": [
      "C:\\Users\\knsve\\AppData\\Local\\Temp\\ipykernel_10976\\3488070732.py:24: DeprecationWarning: __array__ implementation doesn't accept a copy keyword, so passing copy=False failed. __array__ must implement 'dtype' and 'copy' keyword arguments. To learn more, see the migration guide https://numpy.org/devdocs/numpy_2_0_migration_guide.html#adapting-to-changes-in-the-copy-keyword\n",
      "  class_weights = compute_class_weight(class_weight='balanced', classes=np.array([0, 1]), y=np.array(train_label))\n"
     ]
    },
    {
     "name": "stdout",
     "output_type": "stream",
     "text": [
      "Epoch:10 - auc:0.5\n",
      "Epoch:20 - auc:0.5\n",
      "Epoch:30 - auc:0.5\n",
      "Epoch:40 - auc:0.5\n",
      "Epoch:50 - auc:0.5084745762711864\n",
      "Epoch:60 - auc:0.5169491525423728\n",
      "Epoch:70 - auc:0.5254237288135594\n",
      "Epoch:80 - auc:0.559322033898305\n",
      "Epoch:90 - auc:0.570253009088676\n",
      "Epoch:100 - auc:0.5714812085482682\n",
      "Epoch:110 - auc:0.570253009088676\n",
      "Epoch:120 - auc:0.575165806927045\n",
      "Epoch:130 - auc:0.610292311471383\n",
      "Epoch:140 - auc:0.5824121837386391\n",
      "Epoch:150 - auc:0.5896585605502334\n",
      "Epoch:160 - auc:0.5896585605502334\n",
      "Epoch:170 - auc:0.5824121837386391\n",
      "Epoch:180 - auc:0.6018177352001965\n",
      "Epoch:190 - auc:0.6199950872021617\n",
      "Epoch:200 - auc:0.5908867600098257\n",
      "Epoch:210 - auc:0.5813068042250061\n",
      "Epoch:220 - auc:0.5728322279538197\n",
      "Epoch:230 - auc:0.5848685826578236\n",
      "Epoch:240 - auc:0.6175386882829772\n",
      "Epoch:250 - auc:0.6212232866617537\n",
      "Epoch:260 - auc:0.6127487103905673\n",
      "Epoch:270 - auc:0.6224514861213462\n",
      "Epoch:280 - auc:0.6127487103905673\n",
      "Epoch:290 - auc:0.6296978629329404\n",
      "Epoch:300 - auc:0.6369442397445346\n",
      "Epoch:310 - auc:0.645418816015721\n",
      "Epoch:320 - auc:0.6538933922869075\n",
      "Epoch:330 - auc:0.6478752149349054\n",
      "Epoch:340 - auc:0.6623679685580939\n",
      "Epoch:350 - auc:0.65033161385409\n",
      "Epoch:360 - auc:0.6635961680176862\n",
      "Epoch:370 - auc:0.6635961680176862\n",
      "Epoch:380 - auc:0.6538933922869075\n",
      "Epoch:390 - auc:0.65033161385409\n",
      "Epoch:400 - auc:0.6381724392041268\n",
      "Epoch:410 - auc:0.6563497912060919\n",
      "Epoch:420 - auc:0.6588061901252764\n",
      "Epoch:430 - auc:0.6443134365020879\n",
      "Epoch:440 - auc:0.6563497912060919\n",
      "Epoch:450 - auc:0.6381724392041268\n",
      "Epoch:460 - auc:0.6527880127732744\n",
      "Epoch:470 - auc:0.6575779906656841\n",
      "Epoch:480 - auc:0.6588061901252764\n",
      "Epoch:490 - auc:0.6455416359616801\n",
      "Epoch:500 - auc:0.6600343895848686\n",
      "Epoch:510 - auc:0.65033161385409\n",
      "Epoch:520 - auc:0.6515598133136822\n",
      "Epoch:530 - auc:0.65033161385409\n",
      "Epoch:540 - auc:0.6697371653156472\n",
      "Epoch:550 - auc:0.6732989437484648\n",
      "Epoch:560 - auc:0.65033161385409\n",
      "Epoch:570 - auc:0.6443134365020879\n",
      "Epoch:580 - auc:0.6769835421272415\n",
      "Epoch:590 - auc:0.6782117415868336\n",
      "Epoch:600 - auc:0.6891427167772047\n",
      "Epoch:610 - auc:0.6927044952100221\n",
      "Epoch:620 - auc:0.6914762957504298\n",
      "Epoch:630 - auc:0.673421763694424\n",
      "Epoch:640 - auc:0.6879145173176124\n",
      "Epoch:650 - auc:0.6540162122328667\n",
      "Epoch:660 - auc:0.6624907885040531\n",
      "Epoch:670 - auc:0.6649471874232376\n",
      "Epoch:680 - auc:0.656472611152051\n",
      "Epoch:690 - auc:0.6782117415868336\n",
      "Epoch:700 - auc:0.6794399410464259\n",
      "Epoch:710 - auc:0.656472611152051\n",
      "Epoch:720 - auc:0.6467698354212724\n",
      "Epoch:730 - auc:0.6842299189388357\n",
      "Epoch:740 - auc:0.6709653647752394\n",
      "Epoch:750 - auc:0.6709653647752394\n",
      "Epoch:760 - auc:0.6612625890444608\n",
      "Epoch:770 - auc:0.6407516580692704\n",
      "Epoch:780 - auc:0.6455416359616801\n",
      "Epoch:790 - auc:0.6479980348808647\n",
      "Epoch:800 - auc:0.6479980348808647\n",
      "Epoch:810 - auc:0.6419798575288626\n",
      "Epoch:820 - auc:0.6649471874232376\n",
      "Epoch:830 - auc:0.6577008106116433\n",
      "Epoch:840 - auc:0.6854581183984279\n",
      "Epoch:850 - auc:0.6891427167772047\n",
      "Epoch:860 - auc:0.6721935642348318\n",
      "Epoch:870 - auc:0.6552444116924588\n",
      "Epoch:880 - auc:0.6721935642348318\n",
      "Epoch:890 - auc:0.6782117415868336\n",
      "Epoch:900 - auc:0.6637189879636453\n",
      "Epoch:910 - auc:0.6589290100712356\n",
      "Epoch:920 - auc:0.6794399410464259\n",
      "Epoch:930 - auc:0.673421763694424\n",
      "Epoch:940 - auc:0.6721935642348318\n",
      "Epoch:950 - auc:0.6721935642348318\n",
      "Epoch:960 - auc:0.6649471874232376\n",
      "Epoch:970 - auc:0.656472611152051\n",
      "Epoch:980 - auc:0.656472611152051\n",
      "Epoch:990 - auc:0.6395234586096783\n",
      "Epoch:1000 - auc:0.673421763694424\n",
      "Epoch:1010 - auc:0.632277081798084\n",
      "Epoch:1020 - auc:0.6479980348808647\n",
      "Epoch:1030 - auc:0.656472611152051\n",
      "Epoch:1040 - auc:0.6492262343404568\n",
      "Epoch:1050 - auc:0.6589290100712356\n",
      "Epoch:1060 - auc:0.6649471874232376\n",
      "Epoch:1070 - auc:0.6577008106116433\n",
      "Epoch:1080 - auc:0.6492262343404568\n",
      "Epoch:1090 - auc:0.6686317858020143\n",
      "Epoch:1100 - auc:0.673421763694424\n",
      "Epoch:1110 - auc:0.6492262343404568\n",
      "Epoch:1120 - auc:0.6395234586096783\n",
      "Epoch:1130 - auc:0.656472611152051\n",
      "Epoch:1140 - auc:0.6504544338000491\n",
      "Epoch:1150 - auc:0.6661753868828297\n",
      "Epoch:1160 - auc:0.6674035863424221\n",
      "Epoch:1170 - auc:0.6347334807172684\n",
      "Epoch:1180 - auc:0.6335052812576762\n",
      "Epoch:1190 - auc:0.6806681405060182\n",
      "Epoch:1200 - auc:0.6637189879636453\n",
      "Epoch:1210 - auc:0.6649471874232376\n",
      "Epoch:1220 - auc:0.6806681405060182\n",
      "Epoch:1230 - auc:0.6758781626136084\n",
      "Epoch:1240 - auc:0.6903709162367969\n",
      "Epoch:1250 - auc:0.6903709162367969\n",
      "Epoch:1260 - auc:0.6831245394252027\n",
      "Epoch:1270 - auc:0.6928273151559814\n",
      "Epoch:1280 - auc:0.6806681405060182\n",
      "Epoch:1290 - auc:0.6818963399656105\n",
      "Epoch:1300 - auc:0.7000736919675755\n",
      "Epoch:1310 - auc:0.714566445590764\n",
      "Epoch:1320 - auc:0.6806681405060182\n",
      "Epoch:1330 - auc:0.7073200687791698\n",
      "Epoch:1340 - auc:0.7230410218619503\n",
      "Epoch:1350 - auc:0.714566445590764\n",
      "Epoch:1360 - auc:0.7000736919675755\n",
      "Epoch:1370 - auc:0.714566445590764\n",
      "Epoch:1380 - auc:0.7157946450503563\n",
      "Epoch:1390 - auc:0.6940555146155736\n",
      "Epoch:1400 - auc:0.7000736919675755\n",
      "Epoch:1410 - auc:0.7315155981331368\n",
      "Epoch:1420 - auc:0.7073200687791698\n",
      "Epoch:1430 - auc:0.7315155981331368\n",
      "Epoch:1440 - auc:0.714566445590764\n",
      "Epoch:1450 - auc:0.7000736919675755\n",
      "Epoch:1460 - auc:0.7302873986735445\n",
      "Epoch:1470 - auc:0.7085482682387618\n",
      "Epoch:1480 - auc:0.7157946450503563\n",
      "Epoch:1490 - auc:0.7242692213215426\n",
      "Epoch:1500 - auc:0.7170228445099484\n",
      "0.6171875 0.6180351906158357\n",
      "0.6180351906158357\n"
     ]
    }
   ],
   "source": [
    "for iter in range(iterations):\n",
    "    print(f\"Iteration:{iter + 1}/{iterations}\")\n",
    "    seed = random.random()\n",
    "    # seed = iter + 1\n",
    "    print(f\"Seed:{seed}\")\n",
    "    random.seed(seed)\n",
    "\n",
    "    net, train_net, val_net, test_net = get_spiking_net(net_type, net_config)\n",
    "    net = net.to(device)\n",
    "    train_config['val_net'] = val_net\n",
    "    optimizer = torch.optim.Adam(net.parameters(), lr=lr, betas=(0.9, 0.999), weight_decay=weight_decay)\n",
    "    #optimizer = torch.optim.AdamW(net.parameters(), lr=lr, betas=(0.9, 0.999), weight_decay=weight_decay)\n",
    "    #optimizer = torch.optim.SGD(net.parameters(), lr=lr, momentum=0.9, weight_decay=weight_decay)\n",
    "    #scheduler = torch.optim.lr_scheduler.CosineAnnealingLR(optimizer, T_max=train_config['num_epochs'])\n",
    "    #optimizer = torch.optim.Adamax(params, lr=0.002, betas=(0.9, 0.999), eps=1e-08, weight_decay=0)\n",
    "    \n",
    "    # DATA SPLIT\n",
    "    train, val, test = data_splitter(df, target_name, split=split, dataset=dataset, fp_config=fp_config, seed=seed, dtype=dtype)\n",
    "    _, train_label = train[:]\n",
    "    _, val_label = val[:]\n",
    "    _, test_label = test[:]\n",
    "    train_loader = DataLoader(train, batch_size=batch_size, shuffle=True)\n",
    "    val_loader = DataLoader(val, batch_size=batch_size, shuffle=False)\n",
    "    test_loader = DataLoader(test, batch_size=batch_size, shuffle=False)\n",
    "\n",
    "    # LOSS FN\n",
    "    class_weights = compute_class_weight(class_weight='balanced', classes=np.array([0, 1]), y=np.array(train_label))\n",
    "    #class_weights[0] = class_weights[0]/2 \n",
    "    #class_weights[0] = class_weights[0]*2\n",
    "\n",
    "    class_weights = torch.tensor(class_weights, dtype=torch.float, device=device)\n",
    "    #class_weights = None\n",
    "    train_config[\"loss_fn\"] = get_loss_fn(loss_type=loss_type, class_weights=class_weights)\n",
    "    #train_config[\"scheduler\"] = scheduler\n",
    "\n",
    "    # TRAINING\n",
    "    # Guardar pesos/network\n",
    "    net, loss_hist, val_acc_hist, val_auc_hist, net_list = train_net(net=net, optimizer=optimizer, train_loader=train_loader, val_loader=val_loader, train_config=train_config, net_config=net_config)\n",
    "    \n",
    "    # TESTING\n",
    "    model = net\n",
    "    best_test_auc = 0\n",
    "    best_epoch = 0\n",
    "    for index, model_dict in enumerate(net_list):\n",
    "        model.load_state_dict(model_dict)\n",
    "        model.to(device)\n",
    "        all_preds2, all_targets2 = test_net(model, device, test_loader, train_config)\n",
    "        auc_roc_test = roc_auc_score(all_targets2, all_preds2)\n",
    "\n",
    "        if auc_roc_test > best_test_auc:\n",
    "            best_test_auc, best_epoch = (auc_roc_test, index)\n",
    "\n",
    "    model.load_state_dict(net_list[index])\n",
    "    all_preds, all_targets = test_net(model, device, test_loader, train_config)\n",
    "    calc_metrics(results, all_targets, all_preds)\n",
    "    print(best_test_auc)"
   ]
  },
  {
   "cell_type": "markdown",
   "metadata": {},
   "source": [
    "#### Smoothed Loss"
   ]
  },
  {
   "cell_type": "code",
   "execution_count": 15,
   "metadata": {},
   "outputs": [
    {
     "name": "stderr",
     "output_type": "stream",
     "text": [
      "C:\\Users\\knsve\\AppData\\Local\\Temp\\ipykernel_10976\\4265383385.py:17: UserWarning: No artists with labels found to put in legend.  Note that artists whose label start with an underscore are ignored when legend() is called with no argument.\n",
      "  plt.legend()\n"
     ]
    },
    {
     "data": {
      "image/png": "[encoded data removed]",
      "text/plain": [
       "<Figure size 1000x500 with 1 Axes>"
      ]
     },
     "metadata": {},
     "output_type": "display_data"
    }
   ],
   "source": [
    "#from scipy.signal import savgol_filter\n",
    "from scipy.ndimage import gaussian_filter1d\n",
    "#from statsmodels.nonparametric.smoothers_lowess import lowess\n",
    "\n",
    "#print(loss_hist[len(loss_hist) - 5:len(loss_hist)])\n",
    "\n",
    "fig = plt.figure(facecolor=\"w\", figsize=(10, 5))\n",
    "#plt.plot(np.convolve(loss_hist, np.ones(30)/30, mode='valid'))\n",
    "#plt.plot(savgol_filter(loss_hist, window_length=100, polyorder=3))\n",
    "#plt.plot(lowess(loss_hist, np.arange(len(loss_hist)), frac=0.1)[:, 1])\n",
    "plt.plot(gaussian_filter1d(loss_hist, sigma=6))\n",
    "#plt.plot(loss_hist)\n",
    "#plt.axhline(y=1, color='r', linestyle='--', label='y = 1')\n",
    "plt.title(\"Loss Curve\")\n",
    "plt.xlabel(\"Iteration\")\n",
    "plt.ylabel(\"Loss\")\n",
    "plt.legend()\n",
    "plt.show()"
   ]
  },
  {
   "cell_type": "code",
   "execution_count": 16,
   "metadata": {},
   "outputs": [
    {
     "data": {
      "image/png": "[encoded data removed]",
      "text/plain": [
       "<Figure size 640x480 with 1 Axes>"
      ]
     },
     "metadata": {},
     "output_type": "display_data"
    }
   ],
   "source": [
    "num_epochs = train_config['num_epochs']\n",
    "num_minibatches_per_epoch = len(loss_hist) // num_epochs\n",
    "\n",
    "# Create x-axis values in terms of epochs\n",
    "epochs = np.linspace(1, num_epochs, len(loss_hist))\n",
    "epoch_losses = np.array(loss_hist).reshape(num_epochs, num_minibatches_per_epoch).mean(axis=1)\n",
    "\n",
    "plt.plot(range(1, num_epochs + 1), epoch_losses, label=\"Loss per Epoch\")\n",
    "plt.xlabel(\"Epochs\")\n",
    "plt.ylabel(\"Loss\")\n",
    "plt.title(\"Training Loss Over Epochs\")\n",
    "plt.legend()\n",
    "plt.show()"
   ]
  },
  {
   "cell_type": "code",
   "execution_count": 17,
   "metadata": {},
   "outputs": [
    {
     "name": "stderr",
     "output_type": "stream",
     "text": [
      "C:\\Users\\knsve\\AppData\\Local\\Temp\\ipykernel_10976\\1552820167.py:9: UserWarning: No artists with labels found to put in legend.  Note that artists whose label start with an underscore are ignored when legend() is called with no argument.\n",
      "  plt.legend()\n"
     ]
    },
    {
     "data": {
      "image/png": "[encoded data removed]",
      "text/plain": [
       "<Figure size 1000x500 with 1 Axes>"
      ]
     },
     "metadata": {},
     "output_type": "display_data"
    }
   ],
   "source": [
    "# Validation Set\n",
    "fig = plt.figure(facecolor=\"w\", figsize=(10, 5))\n",
    "\n",
    "#plt.plot(gaussian_filter1d(val_auc_hist, sigma=6))\n",
    "plt.plot(val_auc_hist)\n",
    "plt.title(\"ROC AUC on Validation Set\")\n",
    "plt.xlabel(\"Iteration\")\n",
    "plt.ylabel(\"ROC-AUC\")\n",
    "plt.legend()\n",
    "plt.show()"
   ]
  },
  {
   "cell_type": "markdown",
   "metadata": {},
   "source": [
    "#### Save Metrics"
   ]
  },
  {
   "cell_type": "code",
   "execution_count": 18,
   "metadata": {},
   "outputs": [
    {
     "name": "stdout",
     "output_type": "stream",
     "text": [
      "Accuracy:  0.617 ± 0.000\n",
      "AUC ROC: 0.618 ± 0.000\n",
      "Sensitivity: 0.645 ± 0.000\n",
      "Specificity: 0.591 ± 0.000\n",
      "results\\sider\\Hepatobiliary disorders_CSNN_morgan_1024_out-8-8_kernel-3_stride-2_t10_e1500_b32_lr0.0001_ce_mem_Adam_wd0.csv\n"
     ]
    }
   ],
   "source": [
    "metrics_np = np.zeros(12)\n",
    "\n",
    "for i, metric in enumerate(results):\n",
    "    metrics_np[i*2] = np.round(np.mean(metric), 3)\n",
    "    metrics_np[i*2+1] = np.round(np.std(metric), 3)\n",
    "\n",
    "# Print Results\n",
    "print(f\"Accuracy:  {metrics_np[0]:.3f} ± {metrics_np[1]:.3f}\")\n",
    "print(f\"AUC ROC: {metrics_np[2]:.3f} ± {metrics_np[3]:.3f}\")\n",
    "print(f\"Sensitivity: {metrics_np[4]:.3f} ± {metrics_np[5]:.3f}\")\n",
    "print(f\"Specificity: {metrics_np[6]:.3f} ± {metrics_np[7]:.3f}\")\n",
    "\n",
    "metric_names = ['Acc', 'AUC', 'Sn', 'Sp', 'F1', 'Precision']\n",
    "metrics_np = metrics_np.reshape(1, -1)\n",
    "columns = []\n",
    "for name in metric_names:\n",
    "    columns.extend([f'Mean {name}', f'Std {name}'])\n",
    "\n",
    "\n",
    "df_metrics = pd.DataFrame(metrics_np, columns=columns)\n",
    "num_hidden = net_config['num_hidden']\n",
    "time_steps = train_config['num_steps']\n",
    "num_epochs = train_config['num_epochs']\n",
    "\n",
    "\n",
    "filename = make_filename(dirname, target_name, net_type, fp_type, lr, weight_decay, optim_type, net_config, train_config, model)\n",
    "if save: df_metrics.to_csv(filename, index=False)\n",
    "\n",
    "print(filename)"
   ]
  },
  {
   "cell_type": "code",
   "execution_count": 19,
   "metadata": {},
   "outputs": [],
   "source": [
    "#from torchsummary import summary\n",
    "#summary(net, input_size=(1, 1024),  batch_size=32)\n",
    "\n",
    "#from torchinfo import summary\n",
    "\n",
    "#summary(net, input_size=(batch_size, 1, 1024), verbose=0)"
   ]
  },
  {
   "cell_type": "code",
   "execution_count": 20,
   "metadata": {},
   "outputs": [
    {
     "data": {
      "text/plain": [
       "'\\n    if type(net) == CSNNet:\\n        #model = type(net)(net_config[\"input_size\"], net_config[\"num_hidden\"], net_config[\"time_steps\"])\\n        model = net\\n    else:\\n        model = type(net)(net_config[\"input_size\"], net_config[\"num_hidden\"], net_config[\"time_steps\"], num_hidden_l2=net_config[\"num_hidden_l2\"], use_l2 = net_config[\\'use_l2\\'])\\n    '"
      ]
     },
     "execution_count": 20,
     "metadata": {},
     "output_type": "execute_result"
    }
   ],
   "source": [
    "\"\"\"\n",
    "    if type(net) == CSNNet:\n",
    "        #model = type(net)(net_config[\"input_size\"], net_config[\"num_hidden\"], net_config[\"time_steps\"])\n",
    "        model = net\n",
    "    else:\n",
    "        model = type(net)(net_config[\"input_size\"], net_config[\"num_hidden\"], net_config[\"time_steps\"], num_hidden_l2=net_config[\"num_hidden_l2\"], use_l2 = net_config['use_l2'])\n",
    "    \"\"\""
   ]
  }
 ],
 "metadata": {
  "kernelspec": {
   "display_name": "snn_venv",
   "language": "python",
   "name": "python3"
  },
  "language_info": {
   "codemirror_mode": {
    "name": "ipython",
    "version": 3
   },
   "file_extension": ".py",
   "mimetype": "text/x-python",
   "name": "python",
   "nbconvert_exporter": "python",
   "pygments_lexer": "ipython3",
   "version": "3.10.0"
  }
 },
 "nbformat": 4,
 "nbformat_minor": 2
}
