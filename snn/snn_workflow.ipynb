{
 "cells": [
  {
   "cell_type": "code",
   "execution_count": null,
   "metadata": {},
   "outputs": [
    {
     "name": "stderr",
     "output_type": "stream",
     "text": [
      "No normalization for SPS. Feature removed!\n",
      "No normalization for AvgIpc. Feature removed!\n",
      "Skipped loading some Tensorflow models, missing a dependency. No module named 'tensorflow'\n",
      "Skipped loading modules with pytorch-geometric dependency, missing a dependency. No module named 'torch_geometric'\n",
      "Skipped loading modules with transformers dependency. No module named 'transformers'\n",
      "cannot import name 'HuggingFaceModel' from 'deepchem.models.torch_models' (c:\\Users\\knsve\\Desktop\\MEI\\Tese\\torch\\pt_venv2\\lib\\site-packages\\deepchem\\models\\torch_models\\__init__.py)\n",
      "Skipped loading modules with pytorch-geometric dependency, missing a dependency. cannot import name 'DMPNN' from 'deepchem.models.torch_models' (c:\\Users\\knsve\\Desktop\\MEI\\Tese\\torch\\pt_venv2\\lib\\site-packages\\deepchem\\models\\torch_models\\__init__.py)\n",
      "Skipped loading modules with pytorch-lightning dependency, missing a dependency. No module named 'lightning'\n",
      "Skipped loading some Jax models, missing a dependency. No module named 'jax'\n",
      "Skipped loading some PyTorch models, missing a dependency. No module named 'tensorflow'\n"
     ]
    }
   ],
   "source": [
    "import pandas as pd\n",
    "import numpy as np\n",
    "import random\n",
    "from rdkit import Chem\n",
    "from snn_model import SNNet, device, batch_size, train_snn, test_snn, get_loss_fn\n",
    "import torch\n",
    "from torch.utils.data import TensorDataset, DataLoader, random_split\n",
    "#from snntorch import spikegen, surrogate\n",
    "import matplotlib.pyplot as plt\n",
    "from utils import load_dataset_df, fp_generator\n",
    "from sklearn.metrics import confusion_matrix, roc_auc_score, accuracy_score, f1_score, precision_score\n",
    "\n",
    "import deepchem as dc\n"
   ]
  },
  {
   "cell_type": "code",
   "execution_count": 2,
   "metadata": {},
   "outputs": [],
   "source": [
    "#!pip install pandas numpy rdkit torch snntorch matplotlib scikit-learn deepchem pubchempy"
   ]
  },
  {
   "cell_type": "code",
   "execution_count": null,
   "metadata": {},
   "outputs": [],
   "source": [
    "#https://github.com/chainer/chainer-chemistry/blob/master/chainer_chemistry/dataset/splitters/scaffold_splitter.py\n",
    "\n",
    "#splitter = ScaffoldSplitter()\n",
    "#tasks, datasets, transformers = dc.molnet.load_bbbp(splitter=splitter, featurizer=\"ECFP\", reload=True)\n",
    "#train, val, test = datasets"
   ]
  },
  {
   "cell_type": "markdown",
   "metadata": {},
   "source": [
    "#### Load DataFrame"
   ]
  },
  {
   "cell_type": "code",
   "execution_count": 30,
   "metadata": {},
   "outputs": [
    {
     "name": "stdout",
     "output_type": "stream",
     "text": [
      "['p_np']\n"
     ]
    }
   ],
   "source": [
    "files = ['tox21.csv','sider.csv', 'BBBP.csv']\n",
    "dt_file = files[2]\n",
    "\n",
    "df, targets = load_dataset_df(filename=dt_file)\n",
    "print(targets)\n",
    "\n",
    "target_name = targets[0]\n",
    "df = df[[target_name, 'smiles']].dropna()\n"
   ]
  },
  {
   "cell_type": "markdown",
   "metadata": {},
   "source": [
    "#### SMILE to Fingerprint"
   ]
  },
  {
   "cell_type": "code",
   "execution_count": null,
   "metadata": {},
   "outputs": [],
   "source": [
    "fp_types = [['morgan', 1024], ['maccs', 167], ['RDKit', 1024], ['pubchem', 881]]\n",
    "fp_type, num_bits = fp_types[0]\n",
    "num_bits = 237\n",
    "print(fp_type, '-', num_bits)\n",
    "num_rows = len(df)\n",
    "fp_array = np.zeros((num_rows, num_bits))\n",
    "target_array = np.zeros((num_rows, 1))\n",
    "i = 0\n",
    "\n",
    "img = None\n",
    "# Smile to Fingerprint of size {num_bits}\n",
    "fp_gen = fp_generator(fp_type, fp_size=num_bits, radius=2)\n",
    "\n",
    "for idx, row in df.iterrows():\n",
    "    mol = Chem.MolFromSmiles(row['smiles'])\n",
    "    #TODO: sanitize molecules to remove the warnings (?)\n",
    "    \n",
    "    if mol is None:\n",
    "        continue\n",
    "    \n",
    "    if fp_type == \"pubchem\":\n",
    "        fingerprint = fp_gen(row['smiles'])\n",
    "        if fingerprint is None:\n",
    "            continue\n",
    "    else:\n",
    "        fingerprint = fp_gen(mol)\n",
    "\n",
    "    fp_array[i] = np.array(fingerprint)\n",
    "    target_array[i] = row[target_name]\n",
    "    i += 1\n",
    "target_array = target_array.ravel()\n",
    "print(np.sum(fp_array[i + 1]))\n",
    "fp_array = fp_array[0:i]\n",
    "target_array = target_array[0:i]"
   ]
  },
  {
   "cell_type": "code",
   "execution_count": null,
   "metadata": {},
   "outputs": [],
   "source": [
    "print(fp_array.shape)"
   ]
  },
  {
   "cell_type": "code",
   "execution_count": null,
   "metadata": {},
   "outputs": [],
   "source": [
    "# Create Torch Dataset\n",
    "dtype = torch.float32\n",
    "fp_tensor = torch.tensor(fp_array, dtype=dtype)\n",
    "target_tensor = torch.tensor(target_array, dtype=dtype).long()\n",
    "\n",
    "dataset = TensorDataset(fp_tensor, target_tensor)"
   ]
  },
  {
   "cell_type": "markdown",
   "metadata": {},
   "source": [
    "#### Loss Function"
   ]
  },
  {
   "cell_type": "code",
   "execution_count": null,
   "metadata": {},
   "outputs": [],
   "source": [
    "from sklearn.utils.class_weight import compute_class_weight\n",
    "\n",
    "loss_types = ['cross_entropy', 'rate_loss', 'temporal_loss']\n",
    "loss_type = loss_types[0]\n",
    "print(loss_type)\n",
    "\n",
    "use_weights = True\n"
   ]
  },
  {
   "cell_type": "markdown",
   "metadata": {},
   "source": [
    "#### Train Loop"
   ]
  },
  {
   "cell_type": "code",
   "execution_count": null,
   "metadata": {},
   "outputs": [],
   "source": [
    "num_epochs = 1000 #aumentar e diminuir lr\n",
    "lr=1e-4 #default was e5-5\n",
    "iterations = 1\n",
    "time_steps = 10\n",
    "num_hidden = 256 # tentar 128"
   ]
  },
  {
   "cell_type": "code",
   "execution_count": null,
   "metadata": {},
   "outputs": [],
   "source": [
    "net = SNNet(input_size=num_bits,num_hidden=num_hidden, num_steps=10, spike_grad=None, use_l2=False).to(device)\n",
    "\n",
    "num_params = sum(p.numel() for p in net.parameters() if p.requires_grad)\n",
    "print(f\"Number of trainable parameters SNN: {num_params}\")\n",
    "\n",
    "net = SNNet(input_size=num_bits,num_hidden=num_hidden,num_steps=10, spike_grad=None, use_l2=True).to(device)\n",
    "\n",
    "num_params = sum(p.numel() for p in net.parameters() if p.requires_grad)\n",
    "print(f\"Number of trainable parameters DSNN: {num_params}\")\n"
   ]
  },
  {
   "cell_type": "code",
   "execution_count": null,
   "metadata": {},
   "outputs": [],
   "source": [
    "results = [[], [], [], [], [], []]\n",
    "for iter in range(iterations):\n",
    "    print(f\"Iteration:{iter + 1}/{iterations}\")\n",
    "    random.seed(iter)\n",
    "    #spike_grad=surrogate.fast_sigmoid()\n",
    "    spike_grad=None\n",
    "    net = SNNet(input_size=num_bits,num_hidden=num_hidden,num_steps=time_steps, spike_grad=spike_grad, use_l2=False).to(device)\n",
    "    optimizer = torch.optim.Adam(net.parameters(), lr=lr, betas=(0.9, 0.999), weight_decay=0) #experimentar lr diferente\n",
    "    #experimentar weight decay = 1e-4 e subir (pouco, 1e-3)\n",
    "\n",
    "    generator = torch.Generator().manual_seed(iter + 1)\n",
    "    #train, test = random_split(dataset, [0.7, 0.3], generator=generator) #experimentar 0.9, 0.1\n",
    "    #train, val, test = random_split(dataset, [0.8, 0.1, 0.1], generator=generator) #experimentar 0.9, 0.1\n",
    "    splitter = ScaffoldSplitter()\n",
    "    train, val, test = dc.molnet.load_bbbp(splitter=splitter)\n",
    "    _, train_label = train[:]\n",
    "    _, val_label = val[:]\n",
    "    _, test_label = test[:]\n",
    "\n",
    "    #print(\"positive labels in the test set:\", int(test_label.sum()))\n",
    "    #print(\"negative labels in the test set:\", int(len(test_label) - test_label.sum()))\n",
    "    # Load the Data\n",
    "    train_loader = DataLoader(train, batch_size=batch_size, shuffle=True)\n",
    "    val_loader = DataLoader(val, batch_size=batch_size, shuffle=True)\n",
    "    test_loader = DataLoader(test, batch_size=batch_size, shuffle=True)\n",
    "\n",
    "    #Loss Function\n",
    "    if use_weights:\n",
    "        class_weights = compute_class_weight(class_weight='balanced', classes=np.array([0, 1]), y=np.array(train_label))\n",
    "        #class_weights[0], class_weights[1] = class_weights[1], class_weights[0]\n",
    "        class_weights[0] += 5\n",
    "        class_weights = torch.tensor(class_weights, dtype=torch.float)\n",
    "        weighted = 'class_weights'\n",
    "    else: \n",
    "        class_weights=None\n",
    "        weighted = ''\n",
    "\n",
    "    loss_fn = get_loss_fn(loss_type=loss_type, class_weights=class_weights)\n",
    "\n",
    "    net, loss_hist = train_snn(net, optimizer, device, num_epochs, train_loader, val_loader, loss_type, loss_fn, dtype)\n",
    "\n",
    "    #fig = plt.figure(facecolor=\"w\", figsize=(10, 5))\n",
    "    #plt.plot(loss_hist)\n",
    "    #plt.title(\"Loss Curve\")\n",
    "    #plt.xlabel(\"Iteration\")\n",
    "    #plt.ylabel(\"Loss\")\n",
    "    #plt.show()\n",
    "\n",
    "    all_preds, all_targets = test_snn(net, device, test_loader)\n",
    "\n",
    "    accuracy = accuracy_score(all_targets, all_preds)\n",
    "    auc_roc = roc_auc_score(all_targets, all_preds)\n",
    "    tn, fp, fn, tp = confusion_matrix(all_targets, all_preds).ravel()\n",
    "    sensitivity = tp/(tp + fn)\n",
    "    specificity = tn/(tn + fp)\n",
    "    f1 = f1_score(all_targets, all_preds)\n",
    "    precision = precision_score(all_targets, all_preds)\n",
    "\n",
    "    results[0].append(accuracy)\n",
    "    results[1].append(auc_roc)\n",
    "    results[2].append(sensitivity)\n",
    "    results[3].append(specificity)\n",
    "    results[4].append(f1)\n",
    "    results[5].append(precision)\n"
   ]
  },
  {
   "cell_type": "markdown",
   "metadata": {},
   "source": [
    "#### Smoothed Loss"
   ]
  },
  {
   "cell_type": "code",
   "execution_count": null,
   "metadata": {},
   "outputs": [],
   "source": [
    "from scipy.signal import savgol_filter\n",
    "from scipy.ndimage import gaussian_filter1d\n",
    "from statsmodels.nonparametric.smoothers_lowess import lowess\n",
    "\n",
    "print(loss_hist[len(loss_hist) - 5:len(loss_hist)])\n",
    "\n",
    "fig = plt.figure(facecolor=\"w\", figsize=(10, 5))\n",
    "#plt.plot(np.convolve(loss_hist, np.ones(30)/30, mode='valid'))\n",
    "#plt.plot(savgol_filter(loss_hist, window_length=100, polyorder=3))\n",
    "#plt.plot(lowess(loss_hist, np.arange(len(loss_hist)), frac=0.1)[:, 1])\n",
    "plt.plot(gaussian_filter1d(loss_hist, sigma=6))\n",
    "#plt.plot(loss_hist)\n",
    "plt.axhline(y=1, color='r', linestyle='--', label='y = 1')\n",
    "plt.title(\"Loss Curve\")\n",
    "plt.xlabel(\"Iteration\")\n",
    "plt.ylabel(\"Loss\")\n",
    "plt.legend()\n",
    "plt.show()"
   ]
  },
  {
   "cell_type": "code",
   "execution_count": null,
   "metadata": {},
   "outputs": [],
   "source": [
    "# Validation Set\n",
    "# ROC auc plot every epochs\n"
   ]
  },
  {
   "cell_type": "code",
   "execution_count": null,
   "metadata": {},
   "outputs": [],
   "source": []
  },
  {
   "cell_type": "markdown",
   "metadata": {},
   "source": [
    "#### Save Metrics"
   ]
  },
  {
   "cell_type": "code",
   "execution_count": null,
   "metadata": {},
   "outputs": [],
   "source": [
    "metrics_np = np.zeros(12)\n",
    "\n",
    "for i, metric in enumerate(results):\n",
    "    metrics_np[i*2] = np.round(np.mean(metric), 3)\n",
    "    metrics_np[i*2+1] = np.round(np.std(metric), 3)\n",
    "\n",
    "# Print Results\n",
    "print(f\"Accuracy:  {metrics_np[0]:.3f} ± {metrics_np[1]:.3f}\")\n",
    "print(f\"AUC ROC: {metrics_np[2]:.3f} ± {metrics_np[3]:.3f}\")\n",
    "print(f\"Sensitivity: {metrics_np[4]:.3f} ± {metrics_np[5]:.3f}\")\n",
    "print(f\"Specificity: {metrics_np[6]:.3f} ± {metrics_np[7]:.3f}\")\n",
    "\n",
    "metric_names = ['Acc', 'AUC', 'Sn', 'Sp', 'F1', 'Precision']\n",
    "metrics_np = metrics_np.reshape(1, -1)\n",
    "columns = []\n",
    "for name in metric_names:\n",
    "    columns.extend([f'Mean {name}', f'Std {name}'])\n",
    "\n",
    "\n",
    "df_metrics = pd.DataFrame(metrics_np, columns=columns)\n",
    "dirname = dt_file.strip('.csv')\n",
    "\n",
    "#adicionar lr\n",
    "filename = f\"results\\\\{dirname}\\\\{target_name}_{fp_type}_{num_bits}_{num_hidden}_{time_steps}_lr{lr}_e{num_epochs}_{loss_type}_{weighted}.csv\"\n",
    "#df_metrics.to_csv(filename, index=False)\n",
    "\n",
    "print(filename)"
   ]
  }
 ],
 "metadata": {
  "kernelspec": {
   "display_name": "pt_venv2",
   "language": "python",
   "name": "python3"
  },
  "language_info": {
   "codemirror_mode": {
    "name": "ipython",
    "version": 3
   },
   "file_extension": ".py",
   "mimetype": "text/x-python",
   "name": "python",
   "nbconvert_exporter": "python",
   "pygments_lexer": "ipython3",
   "version": "3.10.0"
  }
 },
 "nbformat": 4,
 "nbformat_minor": 2
}
